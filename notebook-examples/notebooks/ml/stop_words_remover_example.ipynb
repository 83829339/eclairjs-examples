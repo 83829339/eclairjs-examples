
{
 "cells": [
      
  {
   "cell_type": "code",
   "execution_count": 1,
   "metadata": {
    "collapsed": false
   },
   "outputs": [],
   "source": [
    "\n",
    "    var SparkConf = require('eclairjs\/SparkConf');\n",
    "    var SparkContext = require('eclairjs\/SparkContext');\n",
    "    var sparkConf = new SparkConf().setAppName(\"JavaScript StopWordsRemoverExample\");\n",
    "    var sc = new SparkContext(sparkConf);\n"
   ]

  },
  {
   "cell_type": "code",
   "execution_count": 2,
   "metadata": {
    "collapsed": false
   },
   "outputs": [],
   "source": [
    "    var SQLContext = require('eclairjs\/sql\/SQLContext');\n",
    "    var StopWordsRemover = require('eclairjs\/ml\/feature\/StopWordsRemover');\n",
    "    var StructType = require('eclairjs\/sql\/types\/StructType');\n",
    "    var StructField = require('eclairjs\/sql\/types\/StructField');\n",
    "    var DataTypes = require('eclairjs\/sql\/types').DataTypes;\n",
    "    var Metadata = require('eclairjs\/sql\/types\/Metadata');\n",
    "    var RowFactory = require('eclairjs\/sql\/RowFactory');\n",
    "\n",
    "    var sqlContext = new SQLContext(sc);\n",
    "\n",
    "    var remover = new StopWordsRemover()\n",
    "      .setInputCol(\"raw\")\n",
    "      .setOutputCol(\"filtered\");\n",
    "\n",
    "    var rdd = sc.parallelize([\n",
    "      RowFactory.create([[\"I\", \"saw\", \"the\", \"red\", \"baloon\"]]),\n",
    "      RowFactory.create([[\"Mary\", \"had\", \"a\", \"little\", \"lamb\"]])\n",
    "    ]);\n",
    "\n",
    "    var schema = new StructType([\n",
    "      new StructField(\n",
    "        \"raw\", DataTypes.createArrayType(DataTypes.StringType), false, Metadata.empty())\n",
    "    ]);\n",
    "\n",
    "    var dataset = sqlContext.createDataFrame(rdd, schema);\n",
    "    remover.transform(dataset).show();\n"
   ]

  },
   {
   "cell_type": "markdown",
   "metadata": {},
   "source": [
    " $example off$\n"
   ]

  },
  {
   "cell_type": "code",
   "execution_count": 3,
   "metadata": {
    "collapsed": false
   },
   "outputs": [],
   "source": [
    "    sc.stop();\n"
   ]
  }
 ],
 "metadata": {
  "kernelspec": {
   "display_name": "Spark 1.6.1 (Javascript)",
   "language": "javascript",
   "name": "eclair"
  },
  "language_info": {
   "name": "scala"
  }
 },
 "nbformat": 4,
 "nbformat_minor": 0
}