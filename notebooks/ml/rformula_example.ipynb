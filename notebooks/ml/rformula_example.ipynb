
{
 "cells": [
      
  {
   "cell_type": "code",
   "execution_count": 1,
   "metadata": {
    "collapsed": false
   },
   "outputs": [],
   "source": [
    "    var SparkConf = require('eclairjs\/SparkConf');\n",
    "    var SparkContext = require('eclairjs\/SparkContext');\n",
    "\n",
    "    var sparkConf = new SparkConf().setAppName(\"Example\");\n",
    "    var sc = new SparkContext(sparkConf);\n",
    "    var SQLContext = require('eclairjs\/sql\/SQLContext');\n",
    "    var DataTypes = require(\"eclairjs\/sql\/types\/DataTypes\");\n",
    "    var RowFactory = require(\"eclairjs\/sql\/RowFactory\");\n",
    "    var RFormula = require(\"eclairjs\/ml\/feature\/RFormula\");\n",
    "\n",
    "    var sqlContext = new SQLContext(sc);\n",
    "\n",
    "    var schema = DataTypes.createStructType([\n",
    "        DataTypes.createStructField(\"id\", DataTypes.IntegerType, false),\n",
    "        DataTypes.createStructField(\"country\", DataTypes.StringType, false),\n",
    "        DataTypes.createStructField(\"hour\", DataTypes.IntegerType, false),\n",
    "        DataTypes.createStructField(\"clicked\", DataTypes.DoubleType, false)\n",
    "    ]);\n",
    "\n",
    "    var rdd = sc.parallelize([\n",
    "        RowFactory.create(7, \"US\", 18, 1.0),\n",
    "        RowFactory.create(8, \"CA\", 12, 0.0),\n",
    "        RowFactory.create(9, \"NZ\", 15, 0.0)\n",
    "    ]);\n",
    "\n",
    "    var dataset = sqlContext.createDataFrame(rdd, schema);\n",
    "    var formula = new RFormula()\n",
    "        .setFormula(\"clicked ~ country + hour\")\n",
    "        .setFeaturesCol(\"features\")\n",
    "        .setLabelCol(\"label\");\n",
    "    var output = formula.fit(dataset).transform(dataset);\n",
    "var result = output.select(\"features\", \"label\");\n",
    "    result.show();\n",
    "\n",
    "    sc.stop();\n"
   ]
  }
 ],
 "metadata": {
  "kernelspec": {
   "display_name": "Spark 1.6.1 (Javascript)",
   "language": "javascript",
   "name": "eclair"
  },
  "language_info": {
   "name": "scala"
  }
 },
 "nbformat": 4,
 "nbformat_minor": 0
}