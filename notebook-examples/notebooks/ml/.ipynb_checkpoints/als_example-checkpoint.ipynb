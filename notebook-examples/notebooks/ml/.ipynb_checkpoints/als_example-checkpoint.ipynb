{
 "cells": [
  {
   "cell_type": "code",
   "execution_count": 1,
   "metadata": {
    "collapsed": false
   },
   "outputs": [],
   "source": [
    "\n",
    "    var SparkConf = require('eclairjs/SparkConf');\n",
    "    var SparkContext = require('eclairjs/SparkContext');\n",
    "    var sparkConf = new SparkConf().setAppName(\"JavaScript AFTSurvivalRegressionExample\");\n",
    "    var sc = new SparkContext(sparkConf);\n"
   ]
  },
  {
   "cell_type": "code",
   "execution_count": 2,
   "metadata": {
    "collapsed": false
   },
   "outputs": [
    {
     "data": {
      "text/plain": [
       "function parseRating(str) {\n",
       "        var RowFactory = require('eclairjs/sql/RowFactory');\n",
       "        var fields = str.split(\"::\");\n",
       "        if (fields.length != 4) {\n",
       "            throw(\"Each line must contain 4 fields\");\n",
       "        }\n",
       "        var userId = parseInt(fields[0]);\n",
       "        var movieId = parseInt(fields[1]);\n",
       "        var rating = parseFloat(fields[2]);\n",
       "        var timestamp = parseInt(fields[3]);\n",
       "\n",
       "        return RowFactory.create([userId, movieId, rating, timestamp]);\n",
       "    }"
      ]
     },
     "execution_count": 2,
     "metadata": {},
     "output_type": "execute_result"
    }
   ],
   "source": [
    "function parseRating(str) {\n",
    "        var RowFactory = require('eclairjs/sql/RowFactory');\n",
    "        var fields = str.split(\"::\");\n",
    "        if (fields.length != 4) {\n",
    "            throw(\"Each line must contain 4 fields\");\n",
    "        }\n",
    "        var userId = parseInt(fields[0]);\n",
    "        var movieId = parseInt(fields[1]);\n",
    "        var rating = parseFloat(fields[2]);\n",
    "        var timestamp = parseInt(fields[3]);\n",
    "\n",
    "        return RowFactory.create([userId, movieId, rating, timestamp]);\n",
    "    }\n"
   ]
  },
  {
   "cell_type": "code",
   "execution_count": 3,
   "metadata": {
    "collapsed": false
   },
   "outputs": [],
   "source": [
    "    var SQLContext = require('eclairjs/sql/SQLContext');\n",
    "    var DataTypes = require('eclairjs/sql/types/DataTypes');\n",
    "    var StructField = require('eclairjs/sql/types/StructField');\n",
    "    var StructType = require('eclairjs/sql/types/StructType');\n",
    "    var Metadata = require('eclairjs/sql/types/Metadata');\n",
    "    var ALS = require('eclairjs/ml/recommendation/ALS');\n",
    "    var RegressionEvaluator = require('eclairjs/ml/evaluation/RegressionEvaluator');\n"
   ]
  },
  {
   "cell_type": "code",
   "execution_count": 4,
   "metadata": {
    "collapsed": false
   },
   "outputs": [],
   "source": [
    "    var sqlContext = new SQLContext(sc);\n",
    "\n",
    "    var ratingsRDD = sc.textFile(\"examples/data/mllib/als/sample_movielens_ratings.txt\")\n",
    "        .map(parseRating);\n",
    "\n",
    "    var schema = new StructType([\n",
    "        new StructField(\"userId\", DataTypes.IntegerType, false, Metadata.empty()),\n",
    "        new StructField(\"movieId\", DataTypes.IntegerType, false, Metadata.empty()),\n",
    "        new StructField(\"rating\", DataTypes.FloatType, false, Metadata.empty()),\n",
    "        new StructField(\"timestamp\", DataTypes.DoubleType, false, Metadata.empty())\n",
    "    ]);\n",
    "    var ratings = sqlContext.createDataFrame(ratingsRDD, schema);\n",
    "    var splits = ratings.randomSplit([0.8, 0.2]);\n",
    "    var training = splits[0];\n",
    "    var test = splits[1];\n"
   ]
  },
  {
   "cell_type": "markdown",
   "metadata": {},
   "source": [
    " Build the recommendation model using ALS on the training data\n"
   ]
  },
  {
   "cell_type": "code",
   "execution_count": 5,
   "metadata": {
    "collapsed": false
   },
   "outputs": [
    {
     "data": {
      "text/plain": [
       "Name: java.lang.RuntimeException\n",
       "Message: org.apache.hadoop.mapred.InvalidInputException: Input path does not exist: file:/Users/berkland/git2/eclairjs-examples/notebooks/ml/examples/data/mllib/als/sample_movielens_ratings.txt\n",
       "StackTrace: jdk.nashorn.internal.runtime.ScriptRuntime.apply(ScriptRuntime.java:397)\n",
       "jdk.nashorn.api.scripting.NashornScriptEngine.evalImpl(NashornScriptEngine.java:446)\n",
       "jdk.nashorn.api.scripting.NashornScriptEngine.evalImpl(NashornScriptEngine.java:403)\n",
       "jdk.nashorn.api.scripting.NashornScriptEngine.evalImpl(NashornScriptEngine.java:399)\n",
       "jdk.nashorn.api.scripting.NashornScriptEngine.eval(NashornScriptEngine.java:155)\n",
       "javax.script.AbstractScriptEngine.eval(AbstractScriptEngine.java:264)\n",
       "org.eclairjs.nashorn.JavascriptInterpreter$$anonfun$2$$anonfun$apply$1.apply(JavascriptInterpreter.scala:201)\n",
       "org.eclairjs.nashorn.JavascriptInterpreter$$anonfun$2$$anonfun$apply$1.apply(JavascriptInterpreter.scala:201)\n",
       "org.apache.toree.global.StreamState$.withStreams(StreamState.scala:81)\n",
       "org.eclairjs.nashorn.JavascriptInterpreter$$anonfun$2.apply(JavascriptInterpreter.scala:199)\n",
       "org.eclairjs.nashorn.JavascriptInterpreter$$anonfun$2.apply(JavascriptInterpreter.scala:199)\n",
       "scala.concurrent.impl.Future$PromiseCompletingRunnable.liftedTree1$1(Future.scala:24)\n",
       "scala.concurrent.impl.Future$PromiseCompletingRunnable.run(Future.scala:24)\n",
       "scala.concurrent.impl.ExecutionContextImpl$$anon$3.exec(ExecutionContextImpl.scala:107)\n",
       "scala.concurrent.forkjoin.ForkJoinTask.doExec(ForkJoinTask.java:260)\n",
       "scala.concurrent.forkjoin.ForkJoinPool$WorkQueue.runTask(ForkJoinPool.java:1339)\n",
       "scala.concurrent.forkjoin.ForkJoinPool.runWorker(ForkJoinPool.java:1979)\n",
       "scala.concurrent.forkjoin.ForkJoinWorkerThread.run(ForkJoinWorkerThread.java:107)"
      ]
     },
     "execution_count": 5,
     "metadata": {},
     "output_type": "execute_result"
    }
   ],
   "source": [
    "    var als = new ALS()\n",
    "        .setMaxIter(5)\n",
    "        .setRegParam(0.01)\n",
    "        .setUserCol(\"userId\")\n",
    "        .setItemCol(\"movieId\")\n",
    "        .setRatingCol(\"rating\");\n",
    "    var model = als.fit(training);\n"
   ]
  },
  {
   "cell_type": "markdown",
   "metadata": {},
   "source": [
    " Evaluate the model by computing the RMSE on the test data\n"
   ]
  },
  {
   "cell_type": "code",
   "execution_count": 6,
   "metadata": {
    "collapsed": false
   },
   "outputs": [],
   "source": [
    "    var rawPredictions = model.transform(test);\n",
    "    var predictions = rawPredictions\n",
    "        .withColumn(\"rating\", rawPredictions.col(\"rating\").cast(DataTypes.DoubleType))\n",
    "        .withColumn(\"prediction\", rawPredictions.col(\"prediction\").cast(DataTypes.DoubleType));\n",
    "\n",
    "    var evaluator = new RegressionEvaluator()\n",
    "        .setMetricName(\"rmse\")\n",
    "        .setLabelCol(\"rating\")\n",
    "        .setPredictionCol(\"prediction\");\n",
    "    var rmse = evaluator.evaluate(predictions);\n",
    "var result = rmse;\n",
    "    print(\"Root-mean-square error = \" + result);\n",
    "    sc.stop();\n"
   ]
  }
 ],
 "metadata": {
  "kernelspec": {
   "display_name": "Spark 1.6.1 (Javascript)",
   "language": "javascript",
   "name": "eclair"
  },
  "language_info": {
   "name": "scala"
  }
 },
 "nbformat": 4,
 "nbformat_minor": 0
}
