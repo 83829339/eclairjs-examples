
{
 "cells": [
      
  {
   "cell_type": "code",
   "execution_count": 1,
   "metadata": {
    "collapsed": false
   },
   "outputs": [],
   "source": [
    "    var SparkConf = require('eclairjs\/SparkConf');\n",
    "    var SparkContext = require('eclairjs\/SparkContext');\n",
    "\n",
    "    var sparkConf = new SparkConf().setAppName(\"Example\");\n",
    "    var sc = new SparkContext(sparkConf);\n",
    "    var SQLContext = require('eclairjs\/sql\/SQLContext');\n",
    "    var RowFactory = require('eclairjs\/sql\/RowFactory');\n",
    "    var StructType = require(\"eclairjs\/sql\/types\/StructType\");\n",
    "    var StructField = require(\"eclairjs\/sql\/types\/StructField\");\n",
    "    var DataTypes = require(\"eclairjs\/sql\/types\/DataTypes\");\n",
    "    var Metadata = require(\"eclairjs\/sql\/types\/Metadata\");\n",
    "    var StringIndexer = require(\"eclairjs\/ml\/feature\/StringIndexer\");\n",
    "    var OneHotEncoder = require(\"eclairjs\/ml\/feature\/OneHotEncoder\");\n"
   ]

  },
  {
   "cell_type": "code",
   "execution_count": 2,
   "metadata": {
    "collapsed": false
   },
   "outputs": [],
   "source": [
    "    var sqlContext = new SQLContext(sc);\n",
    "\n",
    "    var rdd = sc.parallelize([\n",
    "        RowFactory.create(0.0, \"a\"),\n",
    "        RowFactory.create(1.0, \"b\"),\n",
    "        RowFactory.create(2.0, \"c\"),\n",
    "        RowFactory.create(3.0, \"a\"),\n",
    "        RowFactory.create(4.0, \"a\"),\n",
    "        RowFactory.create(5.0, \"c\")\n",
    "    ]);\n",
    "\n",
    "    var schema = new StructType([\n",
    "        new StructField(\"id\", DataTypes.DoubleType, false, Metadata.empty()),\n",
    "        new StructField(\"category\", DataTypes.StringType, false, Metadata.empty())\n",
    "    ]);\n",
    "\n",
    "    var df = sqlContext.createDataFrame(rdd, schema);\n",
    "\n",
    "    var indexer = new StringIndexer()\n",
    "        .setInputCol(\"category\")\n",
    "        .setOutputCol(\"categoryIndex\")\n",
    "        .fit(df);\n",
    "    var indexed = indexer.transform(df);\n",
    "\n",
    "    var encoder = new OneHotEncoder()\n",
    "        .setInputCol(\"categoryIndex\")\n",
    "        .setOutputCol(\"categoryVec\");\n",
    "    var encoded = encoder.transform(indexed);\n",
    "var result = encoded.select(\"id\", \"categoryVec\");\n",
    "    result.show();\n",
    "\n",
    "    sc.stop();\n"
   ]
  }
 ],
 "metadata": {
  "kernelspec": {
   "display_name": "Spark 1.6.1 (Javascript)",
   "language": "javascript",
   "name": "eclair"
  },
  "language_info": {
   "name": "scala"
  }
 },
 "nbformat": 4,
 "nbformat_minor": 0
}