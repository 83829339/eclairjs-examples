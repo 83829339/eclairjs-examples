
{
 "cells": [
      
  {
   "cell_type": "code",
   "execution_count": 1,
   "metadata": {
    "collapsed": false
   },
   "outputs": [],
   "source": [
    "\n",
    "    var SparkConf = require('eclairjs\/SparkConf');\n",
    "    var SparkContext = require('eclairjs\/SparkContext');\n",
    "\n",
    "    var sparkConf = new SparkConf().setAppName(\"Example\");\n",
    "    var sc = new SparkContext(sparkConf);\n",
    "    var SQLContext = require('eclairjs\/sql\/SQLContext');\n",
    "    var functions = require('eclairjs\/sql\/functions');\n",
    "    var LogisticRegression = require(\"eclairjs\/ml\/classification\/LogisticRegression\");\n"
   ]

  },
   {
   "cell_type": "markdown",
   "metadata": {},
   "source": [
    "var Vectors = require(\"eclairjs\/mllib\/linalg\/Vectors\");\n"
   ]

  },
  {
   "cell_type": "code",
   "execution_count": 2,
   "metadata": {
    "collapsed": false
   },
   "outputs": [],
   "source": [
    "\n",
    "    var sqlContext = new SQLContext(sc);\n"
   ]

  },
   {
   "cell_type": "markdown",
   "metadata": {},
   "source": [
    " Load training data\n"
   ]

  },
  {
   "cell_type": "code",
   "execution_count": 3,
   "metadata": {
    "collapsed": false
   },
   "outputs": [],
   "source": [
    "    var training = sqlContext.read().format(\"libsvm\")\n",
    "        .load(\"examples\/data\/mllib\/sample_libsvm_data.txt\");\n",
    "\n",
    "    var lr = new LogisticRegression()\n",
    "        .setMaxIter(10)\n",
    "        .setRegParam(0.3)\n",
    "        .setElasticNetParam(0.8);\n"
   ]

  },
   {
   "cell_type": "markdown",
   "metadata": {},
   "source": [
    " Fit the model\n"
   ]

  },
  {
   "cell_type": "code",
   "execution_count": 4,
   "metadata": {
    "collapsed": false
   },
   "outputs": [],
   "source": [
    "    var lrModel = lr.fit(training);\n",
    "    var ret = {};\n",
    "    ret.coefficients = lrModel.coefficients();\n",
    "    ret.intercept = lrModel.intercept();\n",
    "\n",
    "var result = ret;\n"
   ]

  },
   {
   "cell_type": "markdown",
   "metadata": {},
   "source": [
    " Print the coefficients and intercept for logistic regression\n"
   ]

  },
  {
   "cell_type": "code",
   "execution_count": 5,
   "metadata": {
    "collapsed": false
   },
   "outputs": [],
   "source": [
    "    print(\"Coefficients: \"\n",
    "        + result.coefficients + \" Intercept: \" + result.intercept);\n",
    "\n",
    "    sc.stop();\n"
   ]
  }
 ],
 "metadata": {
  "kernelspec": {
   "display_name": "Spark 1.6.1 (Javascript)",
   "language": "javascript",
   "name": "eclair"
  },
  "language_info": {
   "name": "scala"
  }
 },
 "nbformat": 4,
 "nbformat_minor": 0
}