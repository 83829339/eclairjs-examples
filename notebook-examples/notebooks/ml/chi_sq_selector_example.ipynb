
{
 "cells": [
      
  {
   "cell_type": "code",
   "execution_count": 1,
   "metadata": {
    "collapsed": false
   },
   "outputs": [],
   "source": [
    "\n",
    "    var SparkConf = require('eclairjs\/SparkConf');\n",
    "    var SparkContext = require('eclairjs\/SparkContext');\n",
    "    var sparkConf = new SparkConf().setAppName(\"JavaScript Chi Sq Selector Example\");\n",
    "    var sc = new SparkContext(sparkConf);\n",
    "\n",
    "    var SQLContext = require('eclairjs\/sql\/SQLContext');\n",
    "    var DataTypes = require('eclairjs\/sql\/types\/DataTypes');\n",
    "    var StructField = require('eclairjs\/sql\/types\/StructField');\n",
    "    var StructType = require('eclairjs\/sql\/types\/StructType');\n",
    "    var RowFactory = require('eclairjs\/sql\/RowFactory');\n",
    "    var Metadata = require('eclairjs\/sql\/types\/Metadata');\n",
    "    var ChiSqSelector = require('eclairjs\/ml\/feature\/ChiSqSelector');\n",
    "    var Vectors = require('eclairjs\/mllib\/linalg\/Vectors');\n",
    "    var VectorUDT = require('eclairjs\/mllib\/linalg\/VectorUDT');\n",
    "\n",
    "    var sqlContext = new SQLContext(sc);\n",
    "\n",
    "    var rdd = sc.parallelize([\n",
    "        RowFactory.create([7, Vectors.dense(0.0, 0.0, 18.0, 1.0), 1.0]),\n",
    "        RowFactory.create([8, Vectors.dense(0.0, 1.0, 12.0, 0.0), 0.0]),\n",
    "        RowFactory.create([9, Vectors.dense(1.0, 0.0, 15.0, 0.1), 0.0])\n",
    "    ]);\n",
    "    var schema = new StructType(\n",
    "    [\n",
    "        new StructField(\"id\", DataTypes.IntegerType, false, Metadata.empty()),\n",
    "            new StructField(\"features\", new VectorUDT(), false, Metadata.empty()),\n",
    "            new StructField(\"clicked\", DataTypes.DoubleType, false, Metadata.empty())\n",
    "    ]);\n",
    "\n",
    "    var df = sqlContext.createDataFrame(rdd, schema);\n",
    "\n",
    "    var selector = new ChiSqSelector()\n",
    "        .setNumTopFeatures(1)\n",
    "        .setFeaturesCol(\"features\")\n",
    "        .setLabelCol(\"clicked\")\n",
    "        .setOutputCol(\"selectedFeatures\");\n",
    "\n",
    "var result = selector.fit(df).transform(df);\n",
    "    result.show();\n",
    "    sc.stop();\n"
   ]
  }
 ],
 "metadata": {
  "kernelspec": {
   "display_name": "Spark 1.6.1 (Javascript)",
   "language": "javascript",
   "name": "eclair"
  },
  "language_info": {
   "name": "scala"
  }
 },
 "nbformat": 4,
 "nbformat_minor": 0
}