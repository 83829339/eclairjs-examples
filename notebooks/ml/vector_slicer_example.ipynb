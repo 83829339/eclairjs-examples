
{
 "cells": [
      
  {
   "cell_type": "code",
   "execution_count": 1,
   "metadata": {
    "collapsed": false
   },
   "outputs": [],
   "source": [
    "\n",
    "    var SparkConf = require('eclairjs\/SparkConf');\n",
    "    var SparkContext = require('eclairjs\/SparkContext');\n",
    "    var sparkConf = new SparkConf().setAppName(\"JavaScript VectorSlicerExample\");\n",
    "    var sc = new SparkContext(sparkConf);\n"
   ]

  },
  {
   "cell_type": "code",
   "execution_count": 2,
   "metadata": {
    "collapsed": false
   },
   "outputs": [],
   "source": [
    "    var SQLContext = require('eclairjs\/sql\/SQLContext');\n",
    "    var NumericAttribute = require('eclairjs\/ml\/attribute\/NumericAttribute');\n",
    "    var AttributeGroup = require('eclairjs\/ml\/attribute\/AttributeGroup');\n",
    "    var RowFactory = require('eclairjs\/sql\/RowFactory');\n",
    "    var Vectors = require('eclairjs\/mllib\/linalg\/Vectors');\n",
    "    var StructType = require('eclairjs\/sql\/types\/StructType');\n",
    "    var VectorSlicer = require('eclairjs\/ml\/feature\/VectorSlicer');\n",
    "\n",
    "    var sql = new SQLContext(sc);\n"
   ]

  },
   {
   "cell_type": "markdown",
   "metadata": {},
   "source": [
    " $example on$\n"
   ]

  },
  {
   "cell_type": "code",
   "execution_count": 3,
   "metadata": {
    "collapsed": false
   },
   "outputs": [],
   "source": [
    "    var attrs = [\n",
    "      NumericAttribute.defaultAttr().withName(\"f1\"),\n",
    "      NumericAttribute.defaultAttr().withName(\"f2\"),\n",
    "      NumericAttribute.defaultAttr().withName(\"f3\")\n",
    "    ];\n",
    "\n",
    "    var group = new AttributeGroup(\"userFeatures\", attrs);\n",
    "\n",
    "    var  rdd = sc.parallelize([\n",
    "      RowFactory.create(Vectors.sparse(3, [0, 1], [-2.0, 2.3])),\n",
    "      RowFactory.create(Vectors.dense([-2.0, 2.3, 0.0]))\n",
    "    ]);\n",
    "\n",
    "    var dataset = sql.createDataFrame(rdd, (new StructType()).add(group.toStructField()));\n",
    "\n",
    "    var vectorSlicer = new VectorSlicer()\n",
    "      .setInputCol(\"userFeatures\").setOutputCol(\"features\");\n",
    "\n",
    "    vectorSlicer.setIndices([1]).setNames([\"f3\"]);\n"
   ]

  },
   {
   "cell_type": "markdown",
   "metadata": {},
   "source": [
    " or slicer.setIndices(new int[]{1, 2}), or slicer.setNames(new String[]{\"f2\", \"f3\"})\n"
   ]

  },
  {
   "cell_type": "code",
   "execution_count": 4,
   "metadata": {
    "collapsed": false
   },
   "outputs": [],
   "source": [
    "\n",
    "    var output = vectorSlicer.transform(dataset);\n",
    "var result = output;\n",
    "\n",
    "    print(result.select(\"userFeatures\", \"features\").first());\n"
   ]

  },
   {
   "cell_type": "markdown",
   "metadata": {},
   "source": [
    " $example off$\n"
   ]

  },
  {
   "cell_type": "code",
   "execution_count": 5,
   "metadata": {
    "collapsed": false
   },
   "outputs": [],
   "source": [
    "    sc.stop();\n"
   ]
  }
 ],
 "metadata": {
  "kernelspec": {
   "display_name": "Spark 1.6.1 (Javascript)",
   "language": "javascript",
   "name": "eclair"
  },
  "language_info": {
   "name": "scala"
  }
 },
 "nbformat": 4,
 "nbformat_minor": 0
}