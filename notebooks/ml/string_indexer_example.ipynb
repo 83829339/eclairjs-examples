
{
 "cells": [
      
  {
   "cell_type": "code",
   "execution_count": 1,
   "metadata": {
    "collapsed": false
   },
   "outputs": [],
   "source": [
    "\n",
    "    var SparkConf = require('eclairjs\/SparkConf');\n",
    "    var SparkContext = require('eclairjs\/SparkContext');\n",
    "    var sparkConf = new SparkConf().setAppName(\"JavaScript StringIndexerExample\");\n",
    "    var sc = new SparkContext(sparkConf);\n"
   ]

  },
  {
   "cell_type": "code",
   "execution_count": 2,
   "metadata": {
    "collapsed": false
   },
   "outputs": [],
   "source": [
    "    var SQLContext = require('eclairjs\/sql\/SQLContext');\n",
    "    var RowFactory = require('eclairjs\/sql\/RowFactory');\n",
    "    var StructType = require('eclairjs\/sql\/types\/StructType');\n",
    "    var DataTypes = require('eclairjs\/sql\/types').DataTypes;\n",
    "    var StringIndexer = require('eclairjs\/ml\/feature\/StringIndexer');\n"
   ]

  },
  {
   "cell_type": "code",
   "execution_count": 3,
   "metadata": {
    "collapsed": false
   },
   "outputs": [],
   "source": [
    "    var sqlContext = new SQLContext(sc);\n",
    "\n",
    "   var jrdd = sc.parallelize([\n",
    "      RowFactory.create(0, \"a\"),\n",
    "      RowFactory.create(1, \"b\"),\n",
    "      RowFactory.create(2, \"c\"),\n",
    "      RowFactory.create(3, \"a\"),\n",
    "      RowFactory.create(4, \"a\"),\n",
    "      RowFactory.create(5, \"c\")\n",
    "    ]);\n",
    "    var schema = new StructType([\n",
    "      DataTypes.createStructField(\"id\", DataTypes.IntegerType, false),\n",
    "      DataTypes.createStructField(\"category\", DataTypes.StringType, false)\n",
    "    ]);\n",
    "    var df = sqlContext.createDataFrame(jrdd, schema);\n",
    "    var indexer = new StringIndexer()\n",
    "      .setInputCol(\"category\")\n",
    "      .setOutputCol(\"categoryIndex\");\n",
    "    var indexed = indexer.fit(df).transform(df);\n",
    "    indexed.show();\n"
   ]

  },
  {
   "cell_type": "code",
   "execution_count": 4,
   "metadata": {
    "collapsed": false
   },
   "outputs": [],
   "source": [
    "var result = indexed;\n"
   ]

  },
   {
   "cell_type": "markdown",
   "metadata": {},
   "source": [
    " $example off$\n"
   ]

  },
  {
   "cell_type": "code",
   "execution_count": 5,
   "metadata": {
    "collapsed": false
   },
   "outputs": [],
   "source": [
    "    sc.stop();\n"
   ]
  }
 ],
 "metadata": {
  "kernelspec": {
   "display_name": "Spark 1.6.1 (Javascript)",
   "language": "javascript",
   "name": "eclair"
  },
  "language_info": {
   "name": "scala"
  }
 },
 "nbformat": 4,
 "nbformat_minor": 0
}