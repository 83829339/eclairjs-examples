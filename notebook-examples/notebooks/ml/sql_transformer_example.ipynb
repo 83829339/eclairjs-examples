
{
 "cells": [
      
  {
   "cell_type": "code",
   "execution_count": 1,
   "metadata": {
    "collapsed": false
   },
   "outputs": [],
   "source": [
    "\n",
    "    var SparkConf = require('eclairjs\/SparkConf');\n",
    "    var SparkContext = require('eclairjs\/SparkContext');\n",
    "    var sparkConf = new SparkConf().setAppName(\"JavaScript SQLTransformerExample\");\n",
    "    var sc = new SparkContext(sparkConf);\n"
   ]

  },
  {
   "cell_type": "code",
   "execution_count": 2,
   "metadata": {
    "collapsed": false
   },
   "outputs": [],
   "source": [
    "    var SQLContext = require('eclairjs\/sql\/SQLContext');\n",
    "    var RowFactory = require('eclairjs\/sql\/RowFactory');\n",
    "    var StructType = require('eclairjs\/sql\/types\/StructType');\n",
    "    var StructField = require('eclairjs\/sql\/types\/StructField');\n",
    "    var DataTypes = require('eclairjs\/sql\/types').DataTypes;\n",
    "    var Metadata = require('eclairjs\/sql\/types\/Metadata');\n",
    "    var SQLTransformer = require('eclairjs\/ml\/feature\/SQLTransformer');\n",
    "\n",
    "    var sqlContext = new SQLContext(sc);\n"
   ]

  },
   {
   "cell_type": "markdown",
   "metadata": {},
   "source": [
    " $example on$\n"
   ]

  },
  {
   "cell_type": "code",
   "execution_count": 3,
   "metadata": {
    "collapsed": false
   },
   "outputs": [],
   "source": [
    "    var jrdd = sc.parallelize([\n",
    "      RowFactory.create([0, 1.0, 3.0]),\n",
    "      RowFactory.create([2, 2.0, 5.0])\n",
    "    ]);\n",
    "    var schema = new StructType( [\n",
    "      new StructField(\"id\", DataTypes.IntegerType, false, Metadata.empty()),\n",
    "      new StructField(\"v1\", DataTypes.DoubleType, false, Metadata.empty()),\n",
    "      new StructField(\"v2\", DataTypes.DoubleType, false, Metadata.empty())\n",
    "    ]);\n",
    "    var df = sqlContext.createDataFrame(jrdd, schema);\n",
    "\n",
    "    var sqlTrans = new SQLTransformer().setStatement(\n",
    "      \"SELECT *, (v1 + v2) AS v3, (v1 * v2) AS v4 FROM __THIS__\");\n",
    "\n",
    "    var output=sqlTrans.transform(df);\n",
    "var result = output;\n",
    "    result.show(20,true);\n"
   ]

  },
   {
   "cell_type": "markdown",
   "metadata": {},
   "source": [
    " $example off$\n"
   ]

  },
  {
   "cell_type": "code",
   "execution_count": 4,
   "metadata": {
    "collapsed": false
   },
   "outputs": [],
   "source": [
    "    sc.stop();\n"
   ]
  }
 ],
 "metadata": {
  "kernelspec": {
   "display_name": "Spark 1.6.1 (Javascript)",
   "language": "javascript",
   "name": "eclair"
  },
  "language_info": {
   "name": "scala"
  }
 },
 "nbformat": 4,
 "nbformat_minor": 0
}