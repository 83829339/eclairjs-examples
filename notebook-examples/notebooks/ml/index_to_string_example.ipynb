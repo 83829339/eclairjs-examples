
{
 "cells": [
      
  {
   "cell_type": "code",
   "execution_count": 1,
   "metadata": {
    "collapsed": false
   },
   "outputs": [],
   "source": [
    "    var SparkConf = require('eclairjs\/SparkConf');\n",
    "    var SparkContext = require('eclairjs\/SparkContext');\n",
    "    var sparkConf = new SparkConf().setAppName(\"JavaScript Gradient Boosted Tree Regressor Example\");\n",
    "    var sc = new SparkContext(sparkConf);\n",
    "\n",
    "    var SQLContext = require('eclairjs\/sql\/SQLContext');\n",
    "    var RowFactory = require('eclairjs\/sql\/RowFactory');\n",
    "    var DataTypes = require('eclairjs\/sql\/types\/DataTypes');\n",
    "    var StructType = require('eclairjs\/sql\/types\/StructType');\n",
    "    var StructField = require('eclairjs\/sql\/types\/StructField');\n",
    "    var Metadata = require('eclairjs\/sql\/types\/Metadata');\n",
    "    var StringIndexer = require('eclairjs\/ml\/feature\/StringIndexer');\n",
    "    var IndexToString = require('eclairjs\/ml\/feature\/IndexToString');;\n",
    "\n",
    "    var sqlContext = new SQLContext(sc);\n",
    "\n",
    "    var rdd = sc.parallelize([\n",
    "        RowFactory.create(0, \"a\"),\n",
    "        RowFactory.create(1, \"b\"),\n",
    "        RowFactory.create(2, \"c\"),\n",
    "        RowFactory.create(3, \"a\"),\n",
    "        RowFactory.create(4, \"a\"),\n",
    "        RowFactory.create(5, \"c\")\n",
    "    ]);\n",
    "    var schema = new StructType([\n",
    "        new StructField(\"id\", DataTypes.IntegerType, false, Metadata.empty()),\n",
    "            new StructField(\"category\", DataTypes.StringType, false, Metadata.empty())\n",
    "    ]);\n",
    "    var df = sqlContext.createDataFrame(rdd, schema);\n",
    "\n",
    "    var indexer = new StringIndexer()\n",
    "        .setInputCol(\"category\")\n",
    "        .setOutputCol(\"categoryIndex\")\n",
    "        .fit(df);\n",
    "    var indexed = indexer.transform(df);\n",
    "\n",
    "    var converter = new IndexToString()\n",
    "        .setInputCol(\"categoryIndex\")\n",
    "        .setOutputCol(\"originalCategory\");\n",
    "    var converted = converter.transform(indexed);\n",
    "var result = converted.select(\"id\", \"originalCategory\");\n",
    "    result.show();\n",
    "\n",
    "    sc.stop();\n"
   ]
  }
 ],
 "metadata": {
  "kernelspec": {
   "display_name": "Spark 1.6.1 (Javascript)",
   "language": "javascript",
   "name": "eclair"
  },
  "language_info": {
   "name": "scala"
  }
 },
 "nbformat": 4,
 "nbformat_minor": 0
}