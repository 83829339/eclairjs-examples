
{
 "cells": [
      
  {
   "cell_type": "code",
   "execution_count": 1,
   "metadata": {
    "collapsed": false
   },
   "outputs": [],
   "source": [
    "var RankingMetrics = require('eclairjs\/mllib\/evaluation').RankingMetrics;\n",
    "var RegressionMetrics = require('eclairjs\/mllib\/evaluation').RegressionMetrics;\n",
    "var ALS = require('eclairjs\/mllib\/recommendation\/ALS');\n",
    "var Rating = require('eclairjs\/mllib\/recommendation\/Rating');\n",
    "var List = require('eclairjs\/List');\n",
    "var Tuple = require('eclairjs\/Tuple');\n",
    "var PairRDD = require('eclairjs\/PairRDD');\n"
   ]

  },
  {
   "cell_type": "code",
   "execution_count": 2,
   "metadata": {
    "collapsed": false
   },
   "outputs": [],
   "source": [
    "var filename =  \"..\/..\/data\/mllib\/sample_movielens_data.txt\";\n",
    "\n",
    "    var SparkConf = require('eclairjs\/SparkConf');\n",
    "    var SparkContext = require('eclairjs\/SparkContext');\n",
    "    var conf = new SparkConf().setAppName(\"Ranking Metrics Example\");\n",
    "    var sc = new SparkContext(conf);\n",
    "\n",
    "    var data = data = sc.textFile(filename);\n",
    "\n",
    "    var ratings = data.map(function (line, Rating) {\n",
    "        var arr = line.split(\"::\");\n",
    "        var r = new Rating(parseInt(arr[0]),\n",
    "            parseInt(arr[1]),\n",
    "            parseFloat(arr[2]) - 2.5);\n",
    "        return r;\n",
    "    }, [Rating]).cache();\n",
    "\n",
    "    var model = ALS.train(ratings, 10, 10, 0.01);\n",
    "    var userRecs = model.recommendProductsForUsers(10);\n",
    "\n",
    "    var userRecommendedScaled = userRecs.map(function (val, Rating, Tuple) {\n",
    "        var myRating = Rating; \/\/ FIXME: For now make a copy to pass to inner lambda\n",
    "        var newRatings = val[1].map(function (r) {\n",
    "            var newRating = Math.max(Math.min(r.rating(), 1.0), 0.0);\n",
    "            return new Rating(r.user(), r.product(), newRating);\n",
    "        });\n",
    "        \n",
    "        return new Tuple(val[0], newRatings);\n",
    "    }, [Rating, Tuple]);\n",
    "\n",
    "    var userRecommended = PairRDD.fromRDD(userRecommendedScaled);\n",
    "\n",
    "    var binarizedRatings = ratings.map(function (r, Rating) {\n",
    "        var binaryRating = 0.0;\n",
    "        if (r.rating() > 0.0) {\n",
    "            binaryRating = 1.0;\n",
    "        }\n",
    "\n",
    "        return new Rating(r.user(), r.product(), binaryRating);\n",
    "    }, [Rating]);\n",
    "\n",
    "    var userMovies = binarizedRatings.groupBy(function (r) {\n",
    "        return r.user();\n",
    "    });\n",
    "\n",
    "    var userMoviesList = userMovies.mapValues(function (docs, List) {\n",
    "        var products = new List();\n",
    "        docs.forEach(function (r) {\n",
    "            if (r.rating() > 0.0) {\n",
    "                products.add(r.product());\n",
    "            }\n",
    "        });\n",
    "        return products;\n",
    "    }, [List]);\n",
    "\n",
    "    var userRecommendedList = userRecommended.mapValues(function (docs, List) {\n",
    "        var products = new List();\n",
    "        docs.forEach(function (r) {\n",
    "            products.add(r.product());\n",
    "        });\n",
    "        return products;\n",
    "    }, [List]);\n",
    "\n",
    "    var relevantDocs = userMoviesList.join(userRecommendedList).values();\n",
    "\n",
    "    var metrics = RankingMetrics.of(relevantDocs);\n"
   ]

  },
   {
   "cell_type": "markdown",
   "metadata": {},
   "source": [
    " Precision and NDCG at k\n"
   ]

  },
  {
   "cell_type": "code",
   "execution_count": 3,
   "metadata": {
    "collapsed": false
   },
   "outputs": [],
   "source": [
    "    [1, 3, 5].forEach(function (k) {\n",
    "        print(\"Precision at \" + k + \" = \" + metrics.precisionAt(k));\n",
    "        print(\"NDCG at \" + k + \" = \" + metrics.ndcgAt(k));\n",
    "    });\n",
    "\n",
    "    print(\"Mean average precision = \" + metrics.meanAveragePrecision());\n",
    "\n",
    "    var userProducts = ratings.map(function (r, Tuple) {\n",
    "        return new Tuple(r.user(), r.product());\n",
    "    }, [Tuple]);\n"
   ]

  },
  {
   "cell_type": "code",
   "execution_count": 4,
   "metadata": {
    "collapsed": false
   },
   "outputs": [],
   "source": [
    "    var predictions = PairRDD.fromRDD(model.predict(userProducts).map(function (r, Tuple) {\n",
    "        return new Tuple(new Tuple(r.user(), r.product()), r.rating());\n",
    "    }, [Tuple]));\n"
   ]

  },
  {
   "cell_type": "code",
   "execution_count": 5,
   "metadata": {
    "collapsed": false
   },
   "outputs": [],
   "source": [
    "    var ratesAndPreds = PairRDD.fromRDD(ratings.map(function (r, Tuple) {\n",
    "        return new Tuple(new Tuple(r.user(), r.product()), r.rating());\n",
    "    }, [Tuple])).join(predictions).values();\n"
   ]

  },
   {
   "cell_type": "markdown",
   "metadata": {},
   "source": [
    " Create regression metrics object\n"
   ]

  },
  {
   "cell_type": "code",
   "execution_count": 6,
   "metadata": {
    "collapsed": false
   },
   "outputs": [],
   "source": [
    "    var regressionMetrics = new RegressionMetrics(ratesAndPreds);\n",
    "    var ret = {};\n",
    "    ret.RMSE = regressionMetrics.rootMeanSquaredError();\n",
    "    ret.r2 = regressionMetrics.r2();\n",
    "var result = ret;\n"
   ]

  },
   {
   "cell_type": "markdown",
   "metadata": {},
   "source": [
    " Root mean squared error\n"
   ]

  },
  {
   "cell_type": "code",
   "execution_count": 7,
   "metadata": {
    "collapsed": false
   },
   "outputs": [],
   "source": [
    "    print(\"RMSE = \" + result.RMSE);\n"
   ]

  },
   {
   "cell_type": "markdown",
   "metadata": {},
   "source": [
    " R-squared\n"
   ]

  },
  {
   "cell_type": "code",
   "execution_count": 8,
   "metadata": {
    "collapsed": false
   },
   "outputs": [],
   "source": [
    "    print(\"R-squared = \" + result.r2);\n",
    "\n",
    "    sc.stop();\n"
   ]
  }
 ],
 "metadata": {
  "kernelspec": {
   "display_name": "Spark 1.6.1 (Javascript)",
   "language": "javascript",
   "name": "eclair"
  },
  "language_info": {
   "name": "scala"
  }
 },
 "nbformat": 4,
 "nbformat_minor": 0
}