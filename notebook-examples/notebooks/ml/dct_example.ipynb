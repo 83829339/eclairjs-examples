
{
 "cells": [
      
  {
   "cell_type": "code",
   "execution_count": 1,
   "metadata": {
    "collapsed": false
   },
   "outputs": [],
   "source": [
    "\n",
    "    var SparkConf = require('eclairjs\/SparkConf');\n",
    "    var SparkContext = require('eclairjs\/SparkContext');\n",
    "    var sparkConf = new SparkConf().setAppName(\"JavaScript DCT Example\");\n",
    "    var sc = new SparkContext(sparkConf);\n",
    "\n",
    "    var SQLContext = require('eclairjs\/sql\/SQLContext');\n",
    "    var DataTypes = require('eclairjs\/sql\/types\/DataTypes');\n",
    "    var ArrayType = require('eclairjs\/sql\/types\/ArrayType');\n",
    "    var StructField = require('eclairjs\/sql\/types\/StructField');\n",
    "    var StructType = require('eclairjs\/sql\/types\/StructType');\n",
    "    var RowFactory = require('eclairjs\/sql\/RowFactory');\n",
    "    var Metadata = require('eclairjs\/sql\/types\/Metadata');\n",
    "    var DCT = require('eclairjs\/ml\/feature\/DCT');\n",
    "    var Vectors = require('eclairjs\/mllib\/linalg\/Vectors');\n",
    "    var VectorUDT = require('eclairjs\/mllib\/linalg\/VectorUDT');\n",
    "\n",
    "    var sqlContext = new SQLContext(sc);\n",
    "    var  data = sc.parallelize([\n",
    "        RowFactory.create([Vectors.dense([0.0, 1.0, -2.0, 3.0])]),\n",
    "        RowFactory.create([Vectors.dense([-1.0, 2.0, 4.0, -7.0])]),\n",
    "        RowFactory.create([Vectors.dense([14.0, -2.0, -5.0, 1.0])])\n",
    "    ]);\n",
    "    var schema = new StructType([\n",
    "        new StructField(\"features\", new VectorUDT(), false, Metadata.empty())\n",
    "    ]);\n",
    "    var df = sqlContext.createDataFrame(data, schema);\n",
    "    var dct = new DCT()\n",
    "        .setInputCol(\"features\")\n",
    "        .setOutputCol(\"featuresDCT\")\n",
    "        .setInverse(false);\n",
    "    var dctDf = dct.transform(df);\n",
    "var result = dctDf.select(\"featuresDCT\");\n",
    "    result.show(3);\n",
    "    sc.stop();\n"
   ]
  }
 ],
 "metadata": {
  "kernelspec": {
   "display_name": "Spark 1.6.1 (Javascript)",
   "language": "javascript",
   "name": "eclair"
  },
  "language_info": {
   "name": "scala"
  }
 },
 "nbformat": 4,
 "nbformat_minor": 0
}