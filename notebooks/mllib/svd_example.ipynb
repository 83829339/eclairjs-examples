
{
 "cells": [
      
  {
   "cell_type": "code",
   "execution_count": 1,
   "metadata": {
    "collapsed": false
   },
   "outputs": [],
   "source": [
    "var Vectors = require(\"eclairjs\/mllib\/linalg\/Vectors\");\n",
    "var RowMatrix = require(\"eclairjs\/mllib\/linalg\/distributed\/RowMatrix\");\n"
   ]

  },
  {
   "cell_type": "code",
   "execution_count": 2,
   "metadata": {
    "collapsed": false
   },
   "outputs": [],
   "source": [
    "\n",
    "    var SparkConf = require('eclairjs\/SparkConf');\n",
    "    var SparkContext = require('eclairjs\/SparkContext');\n",
    "    var sparkConf = new SparkConf().setAppName(\"SVD Example\");\n",
    "    var sc = new SparkContext(sparkConf);\n",
    "\n",
    "    var rows = sc.parallelize([\n",
    "        Vectors.dense([1.12, 2.05, 3.12]),\n",
    "        Vectors.dense([5.56, 6.28, 8.94]),\n",
    "        Vectors.dense([10.2, 8.0, 20.5])\n",
    "    ]);\n"
   ]

  },
   {
   "cell_type": "markdown",
   "metadata": {},
   "source": [
    " Create a RowMatrix from JavaRDD<Vector>.\n"
   ]

  },
  {
   "cell_type": "code",
   "execution_count": 3,
   "metadata": {
    "collapsed": false
   },
   "outputs": [],
   "source": [
    "    var mat = new RowMatrix(rows);\n"
   ]

  },
   {
   "cell_type": "markdown",
   "metadata": {},
   "source": [
    " Compute the top 3 singular values and corresponding singular vectors.\n"
   ]

  },
  {
   "cell_type": "code",
   "execution_count": 4,
   "metadata": {
    "collapsed": false
   },
   "outputs": [],
   "source": [
    "    var svd = mat.computeSVD(3, true, 0.000000001);\n",
    "\n",
    "    var ret = {};\n",
    "    ret.collectPartitions = svd.U().rows().collect();\n",
    "    ret.s = svd.s();\n",
    "    ret.V = svd.V();\n",
    "\n",
    "var result = ret;\n",
    "    print(\"U factor is:\");\n",
    "    result.collectPartitions.forEach(function (vector) {\n",
    "        print(\"\\t\" + vector);\n",
    "    });\n",
    "    print(\"Singular values are: \" + result.s);\n",
    "    print(\"V factor is:\\n\" + result.V);\n",
    "\n",
    "    sc.stop();\n"
   ]
  }
 ],
 "metadata": {
  "kernelspec": {
   "display_name": "Spark 1.6.1 (Javascript)",
   "language": "javascript",
   "name": "eclair"
  },
  "language_info": {
   "name": "scala"
  }
 },
 "nbformat": 4,
 "nbformat_minor": 0
}