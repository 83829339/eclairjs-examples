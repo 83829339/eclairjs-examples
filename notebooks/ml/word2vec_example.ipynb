
{
 "cells": [
      
  {
   "cell_type": "code",
   "execution_count": 1,
   "metadata": {
    "collapsed": false
   },
   "outputs": [],
   "source": [
    "\n",
    "var conf = new SparkConf().setAppName(\"JavaScriptWord2VecExample\").setMaster(\"local[*]\");\n",
    "var sc = new SparkContext(conf);\n",
    "var sqlContext = new SQLContext(sc);\n"
   ]

  },
   {
   "cell_type": "markdown",
   "metadata": {},
   "source": [
    " Input data: Each row is a bag of words from a sentence or document.\n"
   ]

  },
  {
   "cell_type": "code",
   "execution_count": 2,
   "metadata": {
    "collapsed": false
   },
   "outputs": [],
   "source": [
    "var rdd = sc.parallelize([\n",
    "    RowFactory.create([\"Hi I heard about Spark\".split(\" \")]),\n",
    "    RowFactory.create([\"I wish Java could use case classes\".split(\" \")]),\n",
    "    RowFactory.create([\"Logistic regression models are neat\".split(\" \")])\n",
    "]);\n",
    "var sf = new StructField(\"text\", new ArrayType(DataTypes.StringType, true), false, Metadata.empty());\n",
    "var sfa = [sf];\n",
    "var schema = new StructType(sfa);\n",
    "var documentDF = sqlContext.createDataFrame(rdd, schema);\n"
   ]

  },
   {
   "cell_type": "markdown",
   "metadata": {},
   "source": [
    " Learn a mapping from words to Vectors.\n"
   ]

  },
  {
   "cell_type": "code",
   "execution_count": 3,
   "metadata": {
    "collapsed": false
   },
   "outputs": [],
   "source": [
    "var word2Vec = new MLWord2Vec()\n",
    "    .setInputCol(\"text\")\n",
    "    .setOutputCol(\"result\")\n",
    "    .setVectorSize(3)\n",
    "    .setMinCount(0);\n",
    "var model = word2Vec.fit(documentDF);\n",
    "var result = model.transform(documentDF);\n",
    "var rows = result.select(\"result\").take(3);\n",
    "rows.forEach(function (r) {\n",
    "    print(r);\n",
    "})\n"
   ]
  }
 ],
 "metadata": {
  "kernelspec": {
   "display_name": "Spark 1.6.1 (Javascript)",
   "language": "javascript",
   "name": "eclair"
  },
  "language_info": {
   "name": "scala"
  }
 },
 "nbformat": 4,
 "nbformat_minor": 0
}