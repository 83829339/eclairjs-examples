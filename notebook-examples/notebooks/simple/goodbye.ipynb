
{
 "cells": [
      
  {
   "cell_type": "code",
   "execution_count": 1,
   "metadata": {
    "collapsed": false
   },
   "outputs": [],
   "source": [
    "function sayGoodbye(x) {\n",
    "    print('sayGoodbye x: ' + x);\n",
    "    var num = x || 2;\n",
    "    for (var i = 0; i < num; i++) {\n",
    "        print('Goodbye World');\n",
    "    }\n",
    "};\n"
   ]

  },
  {
   "cell_type": "code",
   "execution_count": 2,
   "metadata": {
    "collapsed": false
   },
   "outputs": [],
   "source": [
    "module.exports = sayGoodbye;\n"
   ]
  }
 ],
 "metadata": {
  "kernelspec": {
   "display_name": "Spark 1.6.1 (Javascript)",
   "language": "javascript",
   "name": "eclair"
  },
  "language_info": {
   "name": "scala"
  }
 },
 "nbformat": 4,
 "nbformat_minor": 0
}