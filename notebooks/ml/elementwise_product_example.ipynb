
{
 "cells": [
      
  {
   "cell_type": "code",
   "execution_count": 1,
   "metadata": {
    "collapsed": false
   },
   "outputs": [],
   "source": [
    "\n",
    "    var SparkConf = require('eclairjs\/SparkConf');\n",
    "    var SparkContext = require('eclairjs\/SparkContext');\n",
    "    var sparkConf = new SparkConf().setAppName(\"JavaScript Elementwise Product Example\");\n",
    "    var sc = new SparkContext(sparkConf);\n",
    "\n",
    "    var SQLContext = require('eclairjs\/sql\/SQLContext');\n",
    "    var RowFactory = require('eclairjs\/sql\/RowFactory');\n",
    "    var DataTypes = require('eclairjs\/sql\/types\/DataTypes');\n",
    "    var Vectors = require('eclairjs\/mllib\/linalg\/Vectors');\n",
    "    var VectorUDT = require('eclairjs\/mllib\/linalg\/VectorUDT');\n",
    "    var ElementwiseProduct = require('eclairjs\/ml\/feature\/ElementwiseProduct');\n",
    "\n",
    "    var sqlContext = new SQLContext(sc);\n"
   ]

  },
   {
   "cell_type": "markdown",
   "metadata": {},
   "source": [
    " Create some vector data; also works for sparse vectors\n"
   ]

  },
  {
   "cell_type": "code",
   "execution_count": 2,
   "metadata": {
    "collapsed": false
   },
   "outputs": [],
   "source": [
    "    var rdd = sc.parallelize([\n",
    "        RowFactory.create([\"a\", Vectors.dense([1.0, 2.0, 3.0])]),\n",
    "        RowFactory.create([\"b\", Vectors.dense([4.0, 5.0, 6.0])])\n",
    "    ]);\n",
    "\n",
    "    var fields = [\n",
    "        DataTypes.createStructField(\"id\", DataTypes.StringType, false),\n",
    "        DataTypes.createStructField(\"vector\", new VectorUDT(), false)\n",
    "    ];\n",
    "\n",
    "    var schema = DataTypes.createStructType(fields);\n",
    "\n",
    "    var dataFrame = sqlContext.createDataFrame(rdd, schema);\n",
    "\n",
    "    var transformingVector = Vectors.dense([0.0, 1.0, 2.0]);\n",
    "\n",
    "    var transformer = new ElementwiseProduct()\n",
    "        .setScalingVec(transformingVector)\n",
    "        .setInputCol(\"vector\")\n",
    "        .setOutputCol(\"transformedVector\");\n"
   ]

  },
   {
   "cell_type": "markdown",
   "metadata": {},
   "source": [
    " Batch transform the vectors to create new column:\n"
   ]

  },
  {
   "cell_type": "code",
   "execution_count": 3,
   "metadata": {
    "collapsed": false
   },
   "outputs": [],
   "source": [
    "var result = transformer.transform(dataFrame);\n",
    "    result.show();\n",
    "\n",
    "    sc.stop();\n"
   ]
  }
 ],
 "metadata": {
  "kernelspec": {
   "display_name": "Spark 1.6.1 (Javascript)",
   "language": "javascript",
   "name": "eclair"
  },
  "language_info": {
   "name": "scala"
  }
 },
 "nbformat": 4,
 "nbformat_minor": 0
}