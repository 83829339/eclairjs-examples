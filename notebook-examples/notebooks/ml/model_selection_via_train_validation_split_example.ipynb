
{
 "cells": [
      
  {
   "cell_type": "code",
   "execution_count": 1,
   "metadata": {
    "collapsed": false
   },
   "outputs": [],
   "source": [
    "    var SparkConf = require('eclairjs\/SparkConf');\n",
    "    var SparkContext = require('eclairjs\/SparkContext');\n",
    "\n",
    "    var sparkConf = new SparkConf().setAppName(\"Example\");\n",
    "    var sc = new SparkContext(sparkConf);\n",
    "    var SQLContext = require('eclairjs\/sql\/SQLContext');\n",
    "    var LinearRegression = require(\"eclairjs\/ml\/regression\/LinearRegression\");\n",
    "    var ParamGridBuilder = require(\"eclairjs\/ml\/tuning\/ParamGridBuilder\");\n",
    "    var TrainValidationSplit = require(\"eclairjs\/ml\/tuning\/TrainValidationSplit\");\n",
    "    var RegressionEvaluator = require(\"eclairjs\/ml\/evaluation\/RegressionEvaluator\");\n",
    "\n",
    "    var sqlContext = new SQLContext(sc);\n",
    "\n",
    "    var data = sqlContext.read().format(\"libsvm\")\n",
    "        .load(\"examples\/data\/mllib\/sample_linear_regression_data.txt\");\n"
   ]

  },
   {
   "cell_type": "markdown",
   "metadata": {},
   "source": [
    " Prepare training and test data.\n"
   ]

  },
  {
   "cell_type": "code",
   "execution_count": 2,
   "metadata": {
    "collapsed": false
   },
   "outputs": [],
   "source": [
    "    var splits = data.randomSplit([0.9, 0.1], 12345);\n",
    "    var training = splits[0];\n",
    "    var test = splits[1];\n",
    "\n",
    "    var lr = new LinearRegression();\n"
   ]

  },
   {
   "cell_type": "markdown",
   "metadata": {},
   "source": [
    " We use a ParamGridBuilder to construct a grid of parameters to search over.\n",
    " TrainValidationSplit will try all combinations of values and determine best model using\n",
    " the evaluator.\n"
   ]

  },
  {
   "cell_type": "code",
   "execution_count": 3,
   "metadata": {
    "collapsed": false
   },
   "outputs": [],
   "source": [
    "    var paramGrid = new ParamGridBuilder()\n",
    "        .addGrid(lr.regParam(), [0.1, 0.01])\n",
    "        .addGrid(lr.fitIntercept())\n",
    "        .addGrid(lr.elasticNetParam(), [0.0, 0.5, 1.0])\n",
    "        .build();\n"
   ]

  },
   {
   "cell_type": "markdown",
   "metadata": {},
   "source": [
    " In this case the estimator is simply the linear regression.\n",
    " A TrainValidationSplit requires an Estimator, a set of Estimator ParamMaps, and an Evaluator.\n"
   ]

  },
  {
   "cell_type": "code",
   "execution_count": 4,
   "metadata": {
    "collapsed": false
   },
   "outputs": [],
   "source": [
    "    var trainValidationSplit = new TrainValidationSplit()\n",
    "        .setEstimator(lr)\n",
    "        .setEvaluator(new RegressionEvaluator())\n",
    "        .setEstimatorParamMaps(paramGrid)\n",
    "        .setTrainRatio(0.8);  \/\/ 80% for training and the remaining 20% for validation\n"
   ]

  },
   {
   "cell_type": "markdown",
   "metadata": {},
   "source": [
    " Run train validation split, and choose the best set of parameters.\n"
   ]

  },
  {
   "cell_type": "code",
   "execution_count": 5,
   "metadata": {
    "collapsed": false
   },
   "outputs": [],
   "source": [
    "    var model = trainValidationSplit.fit(training);\n"
   ]

  },
   {
   "cell_type": "markdown",
   "metadata": {},
   "source": [
    " Make predictions on test data. model is the model with combination of parameters\n",
    " that performed best.\n"
   ]

  },
  {
   "cell_type": "code",
   "execution_count": 6,
   "metadata": {
    "collapsed": false
   },
   "outputs": [],
   "source": [
    "    return model.transform(test)\n",
    "        .select(\"features\", \"label\", \"prediction\");\n",
    "    result.show();\n",
    "\n",
    "    sc.stop();\n"
   ]
  }
 ],
 "metadata": {
  "kernelspec": {
   "display_name": "Spark 1.6.1 (Javascript)",
   "language": "javascript",
   "name": "eclair"
  },
  "language_info": {
   "name": "scala"
  }
 },
 "nbformat": 4,
 "nbformat_minor": 0
}