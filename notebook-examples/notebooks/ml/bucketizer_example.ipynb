
{
 "cells": [
      
  {
   "cell_type": "code",
   "execution_count": 1,
   "metadata": {
    "collapsed": false
   },
   "outputs": [],
   "source": [
    "\n",
    "    var SparkConf = require('eclairjs\/SparkConf');\n",
    "    var SparkContext = require('eclairjs\/SparkContext');\n",
    "    var sparkConf = new SparkConf().setAppName(\"JavaScript Bucketizer Example\");\n",
    "    var sc = new SparkContext(sparkConf);\n",
    "    var SQLContext = require('eclairjs\/sql\/SQLContext');\n",
    "    var DataTypes = require('eclairjs\/sql\/types\/DataTypes');\n",
    "    var StructField = require('eclairjs\/sql\/types\/StructField');\n",
    "    var StructType = require('eclairjs\/sql\/types\/StructType');\n",
    "    var RowFactory = require('eclairjs\/sql\/RowFactory');\n",
    "    var Metadata = require('eclairjs\/sql\/types\/Metadata');\n",
    "    var Bucketizer = require('eclairjs\/ml\/feature\/Bucketizer');\n",
    "\n",
    "    var sql = new SQLContext(sc);\n",
    "\n",
    "    var splits = [Number.NEGATIVE_INFINITY, -0.5, 0.0, 0.5, Number.POSITIVE_INFINITY];\n",
    "\n",
    "    var data = sc.parallelize([\n",
    "        RowFactory.create([-0.5]),\n",
    "        RowFactory.create([-0.3]),\n",
    "        RowFactory.create([0.0]),\n",
    "        RowFactory.create([0.2])\n",
    "    ]);\n",
    "    var schema = new StructType([\n",
    "        new StructField(\"features\", DataTypes.DoubleType, false, Metadata.empty())\n",
    "    ]);\n",
    "    var dataFrame = sql.createDataFrame(data, schema);\n",
    "\n",
    "    var bucketizer = new Bucketizer()\n",
    "        .setInputCol(\"features\")\n",
    "        .setOutputCol(\"bucketedFeatures\")\n",
    "        .setSplits(splits);\n"
   ]

  },
   {
   "cell_type": "markdown",
   "metadata": {},
   "source": [
    " Transform original data into its bucket index.\n"
   ]

  },
  {
   "cell_type": "code",
   "execution_count": 2,
   "metadata": {
    "collapsed": false
   },
   "outputs": [],
   "source": [
    "var result = bucketizer.transform(dataFrame);\n",
    "    result.show();\n",
    "    sc.stop();\n"
   ]
  }
 ],
 "metadata": {
  "kernelspec": {
   "display_name": "Spark 1.6.1 (Javascript)",
   "language": "javascript",
   "name": "eclair"
  },
  "language_info": {
   "name": "scala"
  }
 },
 "nbformat": 4,
 "nbformat_minor": 0
}