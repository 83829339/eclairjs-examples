
{
 "cells": [
      
  {
   "cell_type": "code",
   "execution_count": 1,
   "metadata": {
    "collapsed": false
   },
   "outputs": [],
   "source": [
    "    var SparkConf = require('eclairjs\/SparkConf');\n",
    "    var SparkContext = require('eclairjs\/SparkContext');\n",
    "\n",
    "    var sparkConf = new SparkConf().setAppName(\"Example\");\n",
    "    var sc = new SparkContext(sparkConf);\n",
    "    var SQLContext = require('eclairjs\/sql\/SQLContext');\n",
    "    var StringIndexer = require(\"eclairjs\/ml\/feature\/StringIndexer\");\n",
    "    var VectorIndexer = require(\"eclairjs\/ml\/feature\/VectorIndexer\");\n",
    "    var IndexToString = require(\"eclairjs\/ml\/feature\/IndexToString\");\n",
    "    var RandomForestClassifier = require(\"eclairjs\/ml\/classification\/RandomForestClassifier\");\n",
    "    var MulticlassClassificationEvaluator = require(\"eclairjs\/ml\/evaluation\/MulticlassClassificationEvaluator\");\n",
    "    var Pipeline = require(\"eclairjs\/ml\/Pipeline\");\n"
   ]

  },
  {
   "cell_type": "code",
   "execution_count": 2,
   "metadata": {
    "collapsed": false
   },
   "outputs": [],
   "source": [
    "    var sqlContext = new SQLContext(sc);\n",
    "\n",
    "    var data =\n",
    "        sqlContext.read().format(\"libsvm\").load(\"examples\/data\/mllib\/sample_libsvm_data.txt\");\n"
   ]

  },
   {
   "cell_type": "markdown",
   "metadata": {},
   "source": [
    " Index labels, adding metadata to the label column.\n",
    " Fit on whole dataset to include all labels in index.\n"
   ]

  },
  {
   "cell_type": "code",
   "execution_count": 3,
   "metadata": {
    "collapsed": false
   },
   "outputs": [],
   "source": [
    "    var labelIndexer = new StringIndexer()\n",
    "        .setInputCol(\"label\")\n",
    "        .setOutputCol(\"indexedLabel\")\n",
    "        .fit(data);\n"
   ]

  },
   {
   "cell_type": "markdown",
   "metadata": {},
   "source": [
    " Automatically identify categorical features, and index them.\n",
    " Set maxCategories so features with > 4 distinct values are treated as continuous.\n"
   ]

  },
  {
   "cell_type": "code",
   "execution_count": 4,
   "metadata": {
    "collapsed": false
   },
   "outputs": [],
   "source": [
    "    var featureIndexer = new VectorIndexer()\n",
    "        .setInputCol(\"features\")\n",
    "        .setOutputCol(\"indexedFeatures\")\n",
    "        .setMaxCategories(4)\n",
    "        .fit(data);\n"
   ]

  },
   {
   "cell_type": "markdown",
   "metadata": {},
   "source": [
    " Split the data into training and test sets (30% held out for testing)\n"
   ]

  },
  {
   "cell_type": "code",
   "execution_count": 5,
   "metadata": {
    "collapsed": false
   },
   "outputs": [],
   "source": [
    "    var splits = data.randomSplit([0.7, 0.3]);\n",
    "    var trainingData = splits[0];\n",
    "    var testData = splits[1];\n"
   ]

  },
   {
   "cell_type": "markdown",
   "metadata": {},
   "source": [
    " Train a RandomForest model.\n"
   ]

  },
  {
   "cell_type": "code",
   "execution_count": 6,
   "metadata": {
    "collapsed": false
   },
   "outputs": [],
   "source": [
    "    var rf = new RandomForestClassifier()\n",
    "        .setLabelCol(\"indexedLabel\")\n",
    "        .setFeaturesCol(\"indexedFeatures\");\n"
   ]

  },
   {
   "cell_type": "markdown",
   "metadata": {},
   "source": [
    " Convert indexed labels back to original labels.\n"
   ]

  },
  {
   "cell_type": "code",
   "execution_count": 7,
   "metadata": {
    "collapsed": false
   },
   "outputs": [],
   "source": [
    "    var labelConverter = new IndexToString()\n",
    "        .setInputCol(\"prediction\")\n",
    "        .setOutputCol(\"predictedLabel\")\n",
    "        .setLabels(labelIndexer.labels());\n"
   ]

  },
   {
   "cell_type": "markdown",
   "metadata": {},
   "source": [
    " Chain indexers and forest in a Pipeline\n"
   ]

  },
  {
   "cell_type": "code",
   "execution_count": 8,
   "metadata": {
    "collapsed": false
   },
   "outputs": [],
   "source": [
    "    var pipeline = new Pipeline()\n",
    "        .setStages([labelIndexer, featureIndexer, rf, labelConverter]);\n"
   ]

  },
   {
   "cell_type": "markdown",
   "metadata": {},
   "source": [
    " Train model. This also runs the indexers.\n"
   ]

  },
  {
   "cell_type": "code",
   "execution_count": 9,
   "metadata": {
    "collapsed": false
   },
   "outputs": [],
   "source": [
    "    var model = pipeline.fit(trainingData);\n"
   ]

  },
   {
   "cell_type": "markdown",
   "metadata": {},
   "source": [
    " Make predictions.\n"
   ]

  },
  {
   "cell_type": "code",
   "execution_count": 10,
   "metadata": {
    "collapsed": false
   },
   "outputs": [],
   "source": [
    "    var predictions = model.transform(testData);\n",
    "\n",
    "    var ret = {};\n"
   ]

  },
   {
   "cell_type": "markdown",
   "metadata": {},
   "source": [
    " Select example rows to display.\n"
   ]

  },
  {
   "cell_type": "code",
   "execution_count": 11,
   "metadata": {
    "collapsed": false
   },
   "outputs": [],
   "source": [
    "    ret.predictionsDF = predictions.select(\"predictedLabel\", \"label\", \"features\");\n"
   ]

  },
   {
   "cell_type": "markdown",
   "metadata": {},
   "source": [
    " Select (prediction, true label) and compute test error\n"
   ]

  },
  {
   "cell_type": "code",
   "execution_count": 12,
   "metadata": {
    "collapsed": false
   },
   "outputs": [],
   "source": [
    "    var evaluator = new MulticlassClassificationEvaluator()\n",
    "        .setLabelCol(\"indexedLabel\")\n",
    "        .setPredictionCol(\"prediction\")\n",
    "        .setMetricName(\"precision\");\n",
    "    var accuracy = evaluator.evaluate(predictions);\n",
    "\n",
    "    ret.accuracy = 1.0 - accuracy;\n",
    "    ret.model = model.stages()[2];\n",
    "\n",
    "var result = ret;\n",
    "    result.predictionsDF.show(5);\n",
    "    print(\"Test Error = \" + result.accuracy);\n",
    "    print(\"Learned classification forest model:\\n\" + result.model.toDebugString());\n",
    "\n",
    "    sc.stop();\n"
   ]
  }
 ],
 "metadata": {
  "kernelspec": {
   "display_name": "Spark 1.6.1 (Javascript)",
   "language": "javascript",
   "name": "eclair"
  },
  "language_info": {
   "name": "scala"
  }
 },
 "nbformat": 4,
 "nbformat_minor": 0
}