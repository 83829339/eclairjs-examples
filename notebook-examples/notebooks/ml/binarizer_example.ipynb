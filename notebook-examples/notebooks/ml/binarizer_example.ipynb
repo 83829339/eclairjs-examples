
{
 "cells": [
      
  {
   "cell_type": "code",
   "execution_count": 1,
   "metadata": {
    "collapsed": false
   },
   "outputs": [],
   "source": [
    "\n",
    "    var SparkConf = require('eclairjs\/SparkConf');\n",
    "    var SparkContext = require('eclairjs\/SparkContext');\n",
    "    var sparkConf = new SparkConf().setAppName(\"JavaScript Binarizer Example\");\n",
    "    var sc = new SparkContext(sparkConf);\n",
    "    var SQLContext = require('eclairjs\/sql\/SQLContext');\n",
    "    var DataTypes = require('eclairjs\/sql\/types\/DataTypes');\n",
    "    var StructField = require('eclairjs\/sql\/types\/StructField');\n",
    "    var StructType = require('eclairjs\/sql\/types\/StructType');\n",
    "    var RowFactory = require('eclairjs\/sql\/RowFactory');\n",
    "    var Metadata = require('eclairjs\/sql\/types\/Metadata');\n",
    "    var Binarizer = require('eclairjs\/ml\/feature\/Binarizer');\n",
    "\n",
    "    var sql = new SQLContext(sc);\n",
    "    var rdd = sc.parallelize([\n",
    "        RowFactory.create([0, 0.1]),\n",
    "        RowFactory.create([1, 0.8]),\n",
    "        RowFactory.create([2, 0.2])\n",
    "    ]);\n",
    "    var schema = new StructType([\n",
    "        new StructField(\"label\", DataTypes.DoubleType, false, Metadata.empty()),\n",
    "        new StructField(\"feature\", DataTypes.DoubleType, false, Metadata.empty())\n",
    "    ]);\n",
    "    var continuousDataFrame = sql.createDataFrame(rdd, schema);\n",
    "    var binarizer = new Binarizer()\n",
    "        .setInputCol(\"feature\")\n",
    "        .setOutputCol(\"binarized_feature\")\n",
    "        .setThreshold(0.5);\n",
    "    var binarizedDataFrame = binarizer.transform(continuousDataFrame);\n",
    "    var binarizedFeatures = binarizedDataFrame.select(\"binarized_feature\");\n",
    "\n",
    "var result = binarizedFeatures.collect();\n",
    "    result.forEach(function (row) {\n",
    "        var binarized_value = row.getDouble(0);\n",
    "        print(binarized_value);\n",
    "    });\n",
    "    sc.stop();\n"
   ]
  }
 ],
 "metadata": {
  "kernelspec": {
   "display_name": "Spark 1.6.1 (Javascript)",
   "language": "javascript",
   "name": "eclair"
  },
  "language_info": {
   "name": "scala"
  }
 },
 "nbformat": 4,
 "nbformat_minor": 0
}