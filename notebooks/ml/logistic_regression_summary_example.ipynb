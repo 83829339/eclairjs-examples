
{
 "cells": [
      
  {
   "cell_type": "code",
   "execution_count": 1,
   "metadata": {
    "collapsed": false
   },
   "outputs": [],
   "source": [
    "\n",
    "    var SparkConf = require('eclairjs\/SparkConf');\n",
    "    var SparkContext = require('eclairjs\/SparkContext');\n",
    "\n",
    "    var sparkConf = new SparkConf().setAppName(\"Example\");\n",
    "    var sc = new SparkContext(sparkConf);\n",
    "    var SQLContext = require('eclairjs\/sql\/SQLContext');\n",
    "    var functions = require('eclairjs\/sql\/functions');\n",
    "    var LogisticRegression = require(\"eclairjs\/ml\/classification\/LogisticRegression\");\n"
   ]

  },
   {
   "cell_type": "markdown",
   "metadata": {},
   "source": [
    "var Vectors = require(\"eclairjs\/mllib\/linalg\/Vectors\");\n"
   ]

  },
  {
   "cell_type": "code",
   "execution_count": 2,
   "metadata": {
    "collapsed": false
   },
   "outputs": [],
   "source": [
    "\n",
    "    var sqlContext = new SQLContext(sc);\n"
   ]

  },
   {
   "cell_type": "markdown",
   "metadata": {},
   "source": [
    " Load training data\n"
   ]

  },
  {
   "cell_type": "code",
   "execution_count": 3,
   "metadata": {
    "collapsed": false
   },
   "outputs": [],
   "source": [
    "    var training = sqlContext.read().format(\"libsvm\")\n",
    "        .load(\"examples\/data\/mllib\/sample_libsvm_data.txt\");\n",
    "\n",
    "    var lr = new LogisticRegression()\n",
    "        .setMaxIter(10)\n",
    "        .setRegParam(0.3)\n",
    "        .setElasticNetParam(0.8);\n"
   ]

  },
   {
   "cell_type": "markdown",
   "metadata": {},
   "source": [
    " Fit the model\n"
   ]

  },
  {
   "cell_type": "code",
   "execution_count": 4,
   "metadata": {
    "collapsed": false
   },
   "outputs": [],
   "source": [
    "    var lrModel = lr.fit(training);\n"
   ]

  },
   {
   "cell_type": "markdown",
   "metadata": {},
   "source": [
    " Extract the summary from the returned LogisticRegressionModel instance trained in the earlier\n",
    " example\n"
   ]

  },
  {
   "cell_type": "code",
   "execution_count": 5,
   "metadata": {
    "collapsed": false
   },
   "outputs": [],
   "source": [
    "    var binarySummary = lrModel.summary();\n",
    "\n",
    "    var ret = {};\n"
   ]

  },
   {
   "cell_type": "markdown",
   "metadata": {},
   "source": [
    " Obtain the loss per iteration.\n"
   ]

  },
  {
   "cell_type": "code",
   "execution_count": 6,
   "metadata": {
    "collapsed": false
   },
   "outputs": [],
   "source": [
    "    ret.objectiveHistory = binarySummary.objectiveHistory();\n"
   ]

  },
   {
   "cell_type": "markdown",
   "metadata": {},
   "source": [
    " Obtain the receiver-operating characteristic as a dataframe and areaUnderROC.\n"
   ]

  },
  {
   "cell_type": "code",
   "execution_count": 7,
   "metadata": {
    "collapsed": false
   },
   "outputs": [],
   "source": [
    "    ret.roc = binarySummary.roc();\n",
    "    ret.areaUnderROC = binarySummary.areaUnderROC();\n"
   ]

  },
   {
   "cell_type": "markdown",
   "metadata": {},
   "source": [
    " Get the threshold corresponding to the maximum F-Measure and rerun LogisticRegression with\n",
    " this selected threshold.\n"
   ]

  },
  {
   "cell_type": "code",
   "execution_count": 8,
   "metadata": {
    "collapsed": false
   },
   "outputs": [],
   "source": [
    "    var fMeasure = binarySummary.fMeasureByThreshold();\n",
    "    var maxFMeasure = fMeasure.select(functions.max(\"F-Measure\")).head().getDouble(0);\n",
    "    var bestThreshold = fMeasure.where(fMeasure.col(\"F-Measure\").equalTo(maxFMeasure))\n",
    "        .select(\"threshold\").head().getDouble(0);\n",
    "    lrModel.setThreshold(bestThreshold);\n",
    "\n",
    "var result = ret;\n",
    "    result.objectiveHistory.forEach(function (lossPerIteration) {\n",
    "        print(lossPerIteration);\n",
    "    });\n",
    "    result.roc.show();\n",
    "    result.roc.select(\"FPR\").show();\n",
    "    print(result.areaUnderROC);\n",
    "\n",
    "    sc.stop();\n"
   ]
  }
 ],
 "metadata": {
  "kernelspec": {
   "display_name": "Spark 1.6.1 (Javascript)",
   "language": "javascript",
   "name": "eclair"
  },
  "language_info": {
   "name": "scala"
  }
 },
 "nbformat": 4,
 "nbformat_minor": 0
}