
{
 "cells": [
      
  {
   "cell_type": "code",
   "execution_count": 1,
   "metadata": {
    "collapsed": false
   },
   "outputs": [],
   "source": [
    "\n",
    "    var SparkConf = require('eclairjs\/SparkConf');\n",
    "    var SparkContext = require('eclairjs\/SparkContext');\n",
    "    var sparkConf = new SparkConf().setAppName(\"JavaScript TfldExample\");\n",
    "    var sc = new SparkContext(sparkConf);\n"
   ]

  },
  {
   "cell_type": "code",
   "execution_count": 2,
   "metadata": {
    "collapsed": false
   },
   "outputs": [],
   "source": [
    "    var SQLContext = require('eclairjs\/sql\/SQLContext');\n",
    "\n",
    "    var sqlContext = new SQLContext(sc);\n",
    "    var RowFactory = require('eclairjs\/sql\/RowFactory');\n",
    "    var StructType = require('eclairjs\/sql\/types\/StructType');\n",
    "    var StructField = require('eclairjs\/sql\/types\/StructField');\n",
    "    var DataTypes = require('eclairjs\/sql\/types').DataTypes;\n",
    "    var Metadata = require('eclairjs\/sql\/types\/Metadata');\n",
    "    var Tokenizer = require('eclairjs\/ml\/feature\/Tokenizer');\n",
    "    var HashingTF = require('eclairjs\/ml\/feature\/HashingTF');\n",
    "    var IDF = require('eclairjs\/ml\/feature\/IDF');\n"
   ]

  },
  {
   "cell_type": "code",
   "execution_count": 3,
   "metadata": {
    "collapsed": false
   },
   "outputs": [],
   "source": [
    "\n",
    "    var jrdd = sc.parallelize([\n",
    "      RowFactory.create(0, \"Hi I heard about Spark\"),\n",
    "      RowFactory.create(0, \"I wish Java could use case classes\"),\n",
    "      RowFactory.create(1, \"Logistic regression models are neat\")\n",
    "    ]);\n",
    "    var schema = new StructType([\n",
    "      new StructField(\"label\", DataTypes.DoubleType, false, Metadata.empty()),\n",
    "      new StructField(\"sentence\", DataTypes.StringType, false, Metadata.empty())\n",
    "    ]);\n",
    "\n",
    "    var sentenceData = sqlContext.createDataFrame(jrdd, schema);\n",
    "    var tokenizer = new Tokenizer().setInputCol(\"sentence\").setOutputCol(\"words\");\n",
    "    var wordsData = tokenizer.transform(sentenceData);\n",
    "    var numFeatures = 20;\n",
    "    var hashingTF = new HashingTF()\n",
    "      .setInputCol(\"words\")\n",
    "      .setOutputCol(\"rawFeatures\")\n",
    "      .setNumFeatures(numFeatures);\n",
    "    var featurizedData = hashingTF.transform(wordsData);\n",
    "    var idf = new IDF().setInputCol(\"rawFeatures\").setOutputCol(\"features\");\n",
    "    var idfModel = idf.fit(featurizedData);\n",
    "    var rescaledData = idfModel.transform(featurizedData);\n",
    "    var rows=rescaledData.select(\"features\", \"label\").take(3);\n",
    "\n",
    "var result = rows;\n",
    "\n",
    "    for (var i=0; i<result.length; i++) {\n",
    "        var r=result[i];\n",
    "      var features = r.get(0);\n",
    "      var label = r.getDouble(1);\n",
    "      print(features);\n",
    "      print(label);\n",
    "    }\n"
   ]

  },
   {
   "cell_type": "markdown",
   "metadata": {},
   "source": [
    " $example off$\n"
   ]

  },
  {
   "cell_type": "code",
   "execution_count": 4,
   "metadata": {
    "collapsed": false
   },
   "outputs": [],
   "source": [
    "    sc.stop();\n"
   ]
  }
 ],
 "metadata": {
  "kernelspec": {
   "display_name": "Spark 1.6.1 (Javascript)",
   "language": "javascript",
   "name": "eclair"
  },
  "language_info": {
   "name": "scala"
  }
 },
 "nbformat": 4,
 "nbformat_minor": 0
}