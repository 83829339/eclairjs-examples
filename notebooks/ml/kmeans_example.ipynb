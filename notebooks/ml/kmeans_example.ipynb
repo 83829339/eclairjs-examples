
{
 "cells": [
      
  {
   "cell_type": "code",
   "execution_count": 1,
   "metadata": {
    "collapsed": false
   },
   "outputs": [],
   "source": [
    "var inputFile =  \"..\/..\/data\/mllib\/kmeans_data.txt\";\n",
    "var k = 3;\n"
   ]

  },
  {
   "cell_type": "code",
   "execution_count": 2,
   "metadata": {
    "collapsed": false
   },
   "outputs": [],
   "source": [
    "    if (args.length > 1) {\n",
    "        inputFile = args[1];\n",
    "    }\n",
    "    if (args.length > 2) {\n",
    "        k = parseInt(args[2]);\n",
    "    }\n",
    "    var SparkConf = require('eclairjs\/SparkConf');\n",
    "    var SparkContext = require('eclairjs\/SparkContext');\n",
    "    var sparkConf = new SparkConf().setAppName(\"KMeans Example\");\n",
    "    var sc = new SparkContext(sparkConf);\n",
    "    var SQLContext = require('eclairjs\/sql\/SQLContext');\n",
    "    var StructField = require(\"eclairjs\/sql\/types\/StructField\");\n",
    "    var StructType = require(\"eclairjs\/sql\/types\/StructType\");\n",
    "    var Metadata = require(\"eclairjs\/sql\/types\/Metadata\");\n",
    "    var RowFactory = require(\"eclairjs\/sql\/RowFactory\");\n",
    "    var Vectors = require(\"eclairjs\/mllib\/linalg\/Vectors\");\n",
    "    var KMeans = require(\"eclairjs\/ml\/clustering\/KMeans\");\n",
    "    var Vector = require(\"eclairjs\/mllib\/linalg\/Vector\");\n",
    "    var VectorUDT = require(\"eclairjs\/mllib\/linalg\/VectorUDT\");\n"
   ]

  },
  {
   "cell_type": "code",
   "execution_count": 3,
   "metadata": {
    "collapsed": false
   },
   "outputs": [],
   "source": [
    "    var sqlContext = new SQLContext(sc);\n",
    "    var points = sc.textFile(inputFile).map(function (line, RowFactory, Vectors) {\n",
    "        var tok = line.split(\" \");\n",
    "        var point = [];\n",
    "        for (var i = 0; i < tok.length; ++i) {\n",
    "            point[i] = parseFloat(tok[i]);\n",
    "        }\n",
    "        var points = Vectors.dense(point);\n",
    "        return RowFactory.create(points);\n",
    "    }, [RowFactory, Vectors]);\n",
    "    var fields = [new StructField(\"features\", new VectorUDT(), false, Metadata.empty())];\n",
    "    var schema = new StructType(fields);\n",
    "    var dataset = sqlContext.createDataFrame(points, schema);\n"
   ]

  },
   {
   "cell_type": "markdown",
   "metadata": {},
   "source": [
    " Trains a k-means model\n"
   ]

  },
  {
   "cell_type": "code",
   "execution_count": 4,
   "metadata": {
    "collapsed": false
   },
   "outputs": [],
   "source": [
    "    var kmeans = new KMeans()\n",
    "        .setK(k);\n",
    "    var model = kmeans.fit(dataset);\n"
   ]

  },
   {
   "cell_type": "markdown",
   "metadata": {},
   "source": [
    " Shows the result\n"
   ]

  },
  {
   "cell_type": "code",
   "execution_count": 5,
   "metadata": {
    "collapsed": false
   },
   "outputs": [],
   "source": [
    "    var centers = model.clusterCenters();\n",
    "\n",
    "var result = centers;\n",
    "    print(\"Cluster Centers: \");\n",
    "    result.forEach(function (center) {\n",
    "        print(center);\n",
    "    });\n",
    "\n",
    "    sc.stop();\n"
   ]
  }
 ],
 "metadata": {
  "kernelspec": {
   "display_name": "Spark 1.6.1 (Javascript)",
   "language": "javascript",
   "name": "eclair"
  },
  "language_info": {
   "name": "scala"
  }
 },
 "nbformat": 4,
 "nbformat_minor": 0
}