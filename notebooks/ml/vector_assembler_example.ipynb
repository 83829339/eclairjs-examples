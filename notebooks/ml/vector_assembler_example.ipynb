
{
 "cells": [
      
  {
   "cell_type": "code",
   "execution_count": 1,
   "metadata": {
    "collapsed": false
   },
   "outputs": [],
   "source": [
    "\n",
    "    var SparkConf = require('eclairjs\/SparkConf');\n",
    "    var SparkContext = require('eclairjs\/SparkContext');\n",
    "    var sparkConf = new SparkConf().setAppName(\"JavaScript VectorAssemblerExample\");\n",
    "    var sc = new SparkContext(sparkConf);\n"
   ]

  },
  {
   "cell_type": "code",
   "execution_count": 2,
   "metadata": {
    "collapsed": false
   },
   "outputs": [],
   "source": [
    "    var SQLContext = require('eclairjs\/sql\/SQLContext');\n",
    "    var RowFactory = require('eclairjs\/sql\/RowFactory');\n",
    "    var Vectors = require('eclairjs\/mllib\/linalg\/Vectors');\n",
    "    var StructField = require('eclairjs\/sql\/types\/StructField');\n",
    "    var DataTypes = require('eclairjs\/sql\/types').DataTypes;\n",
    "    var VectorUDT = require('eclairjs\/mllib\/linalg\/VectorUDT');\n",
    "    var VectorAssembler = require('eclairjs\/ml\/feature\/VectorAssembler');\n",
    "\n",
    "    var sqlContext = new SQLContext(sc);\n",
    "\n",
    "    var schema = DataTypes.createStructType([\n",
    "      DataTypes.createStructField(\"id\", DataTypes.IntegerType, false),\n",
    "      DataTypes.createStructField(\"hour\", DataTypes.IntegerType, false),\n",
    "      DataTypes.createStructField(\"mobile\", DataTypes.DoubleType, false),\n",
    "      DataTypes.createStructField(\"userFeatures\", new VectorUDT(), false),\n",
    "      DataTypes.createStructField(\"clicked\", DataTypes.DoubleType, false)\n",
    "    ]);\n",
    "    var row = RowFactory.create([0, 18, 1.0, Vectors.dense([0.0, 10.0, 0.5]), 1.0]);\n",
    "    var rdd = sc.parallelize([row]);\n",
    "    var dataset = sqlContext.createDataFrame(rdd, schema);\n",
    "\n",
    "    var assembler = new VectorAssembler()\n",
    "      .setInputCols([\"hour\", \"mobile\", \"userFeatures\"])\n",
    "      .setOutputCol(\"features\");\n",
    "\n",
    "    var output = assembler.transform(dataset);\n"
   ]

  },
  {
   "cell_type": "code",
   "execution_count": 3,
   "metadata": {
    "collapsed": false
   },
   "outputs": [],
   "source": [
    "\n",
    "var result = output;\n",
    "\n",
    "    print(result.select(\"features\", \"clicked\").first());\n"
   ]

  },
   {
   "cell_type": "markdown",
   "metadata": {},
   "source": [
    " $example off$\n"
   ]

  },
  {
   "cell_type": "code",
   "execution_count": 4,
   "metadata": {
    "collapsed": false
   },
   "outputs": [],
   "source": [
    "    sc.stop();\n"
   ]
  }
 ],
 "metadata": {
  "kernelspec": {
   "display_name": "Spark 1.6.1 (Javascript)",
   "language": "javascript",
   "name": "eclair"
  },
  "language_info": {
   "name": "scala"
  }
 },
 "nbformat": 4,
 "nbformat_minor": 0
}