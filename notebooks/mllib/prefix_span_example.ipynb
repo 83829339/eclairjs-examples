
{
 "cells": [
      
  {
   "cell_type": "code",
   "execution_count": 1,
   "metadata": {
    "collapsed": false
   },
   "outputs": [],
   "source": [
    "\n",
    "    var sparkConf = new SparkConf().setAppName(\"PrefixSpanExample\");\n",
    "    var sc = new SparkContext(sparkConf);\n",
    "\n",
    "    var sequences = sc.parallelize([\n",
    "        new List([new List([1, 2]), new List([3])]),\n",
    "        new List([new List([1]), new List([3, 2]), new List([1, 2])]),\n",
    "        new List([new List([1, 2]), new List([5])]),\n",
    "        new List([new List([6])])\n",
    "    ], 2);\n",
    "\n",
    "    var prefixSpan = new PrefixSpan()\n",
    "        .setMinSupport(0.5)\n",
    "        .setMaxPatternLength(5);\n",
    "    var model = prefixSpan.run(sequences);\n",
    "\n",
    "var result = model.freqSequences().collect();\n",
    "    result.forEach(function (freqSeq) {\n",
    "        print(JSON.stringify(freqSeq.sequence()) + \", \" + freqSeq.freq());\n",
    "    });\n",
    "\n",
    "    sc.stop();\n"
   ]
  }
 ],
 "metadata": {
  "kernelspec": {
   "display_name": "Spark 1.6.1 (Javascript)",
   "language": "javascript",
   "name": "eclair"
  },
  "language_info": {
   "name": "scala"
  }
 },
 "nbformat": 4,
 "nbformat_minor": 0
}