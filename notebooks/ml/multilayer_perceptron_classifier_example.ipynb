
{
 "cells": [
      
  {
   "cell_type": "code",
   "execution_count": 1,
   "metadata": {
    "collapsed": false
   },
   "outputs": [],
   "source": [
    "    var SparkConf = require('eclairjs\/SparkConf');\n",
    "    var SparkContext = require('eclairjs\/SparkContext');\n",
    "\n",
    "    var sparkConf = new SparkConf().setAppName(\"Example\");\n",
    "    var sc = new SparkContext(sparkConf);\n",
    "    var SQLContext = require('eclairjs\/sql\/SQLContext');\n",
    "    var MultilayerPerceptronClassifier = require(\"eclairjs\/ml\/classification\/MultilayerPerceptronClassifier\");\n",
    "    var MulticlassClassificationEvaluator = require(\"eclairjs\/ml\/evaluation\/MulticlassClassificationEvaluator\");\n"
   ]

  },
  {
   "cell_type": "code",
   "execution_count": 2,
   "metadata": {
    "collapsed": false
   },
   "outputs": [],
   "source": [
    "    var sqlContext = new SQLContext(sc);\n",
    "\n",
    "    var path = \"examples\/data\/mllib\/sample_multiclass_classification_data.txt\";\n",
    "    var dataFrame = sqlContext.read().format(\"libsvm\").load(path);\n"
   ]

  },
   {
   "cell_type": "markdown",
   "metadata": {},
   "source": [
    " Split the data into train and test\n"
   ]

  },
  {
   "cell_type": "code",
   "execution_count": 3,
   "metadata": {
    "collapsed": false
   },
   "outputs": [],
   "source": [
    "    var splits = dataFrame.randomSplit([0.6, 0.4], 1234);\n",
    "    var train = splits[0];\n",
    "    var test = splits[1];\n"
   ]

  },
   {
   "cell_type": "markdown",
   "metadata": {},
   "source": [
    " specify layers for the neural network:\n",
    " input layer of size 4 (features), two intermediate of size 5 and 4\n",
    " and output of size 3 (classes)\n"
   ]

  },
  {
   "cell_type": "code",
   "execution_count": 4,
   "metadata": {
    "collapsed": false
   },
   "outputs": [],
   "source": [
    "    var layers = [4, 5, 4, 3];\n"
   ]

  },
   {
   "cell_type": "markdown",
   "metadata": {},
   "source": [
    " create the trainer and set its parameters\n"
   ]

  },
  {
   "cell_type": "code",
   "execution_count": 5,
   "metadata": {
    "collapsed": false
   },
   "outputs": [],
   "source": [
    "    var trainer = new MultilayerPerceptronClassifier()\n",
    "        .setLayers(layers)\n",
    "        .setBlockSize(128)\n",
    "        .setSeed(1234)\n",
    "        .setMaxIter(100);\n"
   ]

  },
   {
   "cell_type": "markdown",
   "metadata": {},
   "source": [
    " train the model\n"
   ]

  },
  {
   "cell_type": "code",
   "execution_count": 6,
   "metadata": {
    "collapsed": false
   },
   "outputs": [],
   "source": [
    "    var model = trainer.fit(train);\n"
   ]

  },
   {
   "cell_type": "markdown",
   "metadata": {},
   "source": [
    " compute precision on the test set\n"
   ]

  },
  {
   "cell_type": "code",
   "execution_count": 7,
   "metadata": {
    "collapsed": false
   },
   "outputs": [],
   "source": [
    "    var result = model.transform(test);\n",
    "    var predictionAndLabels = result.select(\"prediction\", \"label\");\n",
    "    var evaluator = new MulticlassClassificationEvaluator()\n",
    "        .setMetricName(\"precision\");\n",
    "var result = evaluator.evaluate(predictionAndLabels);\n",
    "    print(\"Precision = \" + result);\n",
    "\n",
    "    sc.stop();\n"
   ]
  }
 ],
 "metadata": {
  "kernelspec": {
   "display_name": "Spark 1.6.1 (Javascript)",
   "language": "javascript",
   "name": "eclair"
  },
  "language_info": {
   "name": "scala"
  }
 },
 "nbformat": 4,
 "nbformat_minor": 0
}