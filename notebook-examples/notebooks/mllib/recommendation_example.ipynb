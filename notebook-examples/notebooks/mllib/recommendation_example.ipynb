
{
 "cells": [
      
  {
   "cell_type": "code",
   "execution_count": 1,
   "metadata": {
    "collapsed": false
   },
   "outputs": [],
   "source": [
    "var ALS = require('eclairjs\/mllib\/recommendation\/ALS');\n",
    "var MatrixFactorizationModel = require('eclairjs\/mllib\/recommendation\/MatrixFactorizationModel');\n",
    "var Rating = require('eclairjs\/mllib\/recommendation\/Rating');\n",
    "var Tuple = require('eclairjs\/Tuple');\n",
    "var FloatRDD = require('eclairjs\/FloatRDD');\n",
    "var PairRDD = require('eclairjs\/PairRDD');\n"
   ]

  },
  {
   "cell_type": "code",
   "execution_count": 2,
   "metadata": {
    "collapsed": false
   },
   "outputs": [],
   "source": [
    "    var SparkConf = require('eclairjs\/SparkConf');\n",
    "    var SparkContext = require('eclairjs\/SparkContext');\n",
    "    var sparkConf = new SparkConf().setAppName(\"Collaborative Filtering Example\");\n",
    "    var sc = new SparkContext(sparkConf);\n"
   ]

  },
   {
   "cell_type": "markdown",
   "metadata": {},
   "source": [
    " Load and parse the data\n"
   ]

  },
  {
   "cell_type": "code",
   "execution_count": 3,
   "metadata": {
    "collapsed": false
   },
   "outputs": [],
   "source": [
    "    var path = \"examples\/data\/mllib\/als\/test.data\";\n",
    "    var data = sc.textFile(path);\n",
    "    var ratings = data.map(function (s, Rating) {\n",
    "        var sarray = s.split(\",\");\n",
    "        return new Rating(parseInt(sarray[0]), parseInt(sarray[1]), parseFloat(sarray[2]));\n",
    "    }, [Rating]);\n"
   ]

  },
   {
   "cell_type": "markdown",
   "metadata": {},
   "source": [
    " Build the recommendation model using ALS\n"
   ]

  },
  {
   "cell_type": "code",
   "execution_count": 4,
   "metadata": {
    "collapsed": false
   },
   "outputs": [],
   "source": [
    "    var rank = 10;\n",
    "    var numIterations = 10;\n",
    "    var model = ALS.train(ratings, rank, numIterations, 0.01);\n"
   ]

  },
   {
   "cell_type": "markdown",
   "metadata": {},
   "source": [
    " Evaluate the model on rating data\n"
   ]

  },
  {
   "cell_type": "code",
   "execution_count": 5,
   "metadata": {
    "collapsed": false
   },
   "outputs": [],
   "source": [
    "    var userProducts = ratings.map(function (r, Tuple) {\n",
    "        return new Tuple(r.user(), r.product());\n",
    "\n",
    "    }, [Tuple]);\n",
    "\n",
    "    var predictions = PairRDD.fromRDD(model.predict(userProducts).map(function (r, Tuple) {\n",
    "        return new Tuple(new Tuple(r.user(), r.product()), r.rating());\n",
    "    }, [Tuple]));\n",
    "\n",
    "    var ratesAndPreds =  PairRDD.fromRDD(ratings.map(function (r, Tuple) {\n",
    "        return new Tuple(new Tuple(r.user(), r.product()), r.rating());\n",
    "    }, [Tuple])).join(predictions).values();\n",
    "\n",
    "    var MSE = FloatRDD.fromRDD(ratesAndPreds.map(function (pair) {\n",
    "        var err = pair[0] - pair[1];\n",
    "        return err * err;\n",
    "\n",
    "    })).mean();\n",
    "\n",
    "    var result = {};\n",
    "    result.model = model;\n",
    "    result.MSE = MSE;\n",
    "    print(\"Mean Squared Error = \" + result.MSE);\n"
   ]

  },
   {
   "cell_type": "markdown",
   "metadata": {},
   "source": [
    " Save and load model\n"
   ]

  },
  {
   "cell_type": "code",
   "execution_count": 6,
   "metadata": {
    "collapsed": false
   },
   "outputs": [],
   "source": [
    "    result.model.save(sc, \"target\/tmp\/myCollaborativeFilter\");\n",
    "    var sameModel = MatrixFactorizationModel.load(sc,\n",
    "        \"target\/tmp\/myCollaborativeFilter\");\n"
   ]

  },
  {
   "cell_type": "code",
   "execution_count": 7,
   "metadata": {
    "collapsed": false
   },
   "outputs": [],
   "source": [
    "    sc.stop();\n"
   ]
  }
 ],
 "metadata": {
  "kernelspec": {
   "display_name": "Spark 1.6.1 (Javascript)",
   "language": "javascript",
   "name": "eclair"
  },
  "language_info": {
   "name": "scala"
  }
 },
 "nbformat": 4,
 "nbformat_minor": 0
}