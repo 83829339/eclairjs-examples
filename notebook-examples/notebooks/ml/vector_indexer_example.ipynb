
{
 "cells": [
      
  {
   "cell_type": "code",
   "execution_count": 1,
   "metadata": {
    "collapsed": false
   },
   "outputs": [],
   "source": [
    "\n",
    "    var SparkConf = require('eclairjs\/SparkConf');\n",
    "    var SparkContext = require('eclairjs\/SparkContext');\n",
    "    var sparkConf = new SparkConf().setAppName(\"JavaScript VectorIndexerExample\");\n",
    "    var sc = new SparkContext(sparkConf);\n"
   ]

  },
  {
   "cell_type": "code",
   "execution_count": 2,
   "metadata": {
    "collapsed": false
   },
   "outputs": [],
   "source": [
    "    var SQLContext = require('eclairjs\/sql\/SQLContext');\n",
    "    var VectorIndexer = require('eclairjs\/ml\/feature\/VectorIndexer');\n",
    "\n",
    "    var sql = new SQLContext(sc);\n"
   ]

  },
   {
   "cell_type": "markdown",
   "metadata": {},
   "source": [
    " $example on$\n"
   ]

  },
  {
   "cell_type": "code",
   "execution_count": 3,
   "metadata": {
    "collapsed": false
   },
   "outputs": [],
   "source": [
    "    var data = sql.read().format(\"libsvm\").load(\"examples\/data\/mllib\/sample_libsvm_data.txt\");\n",
    "\n",
    "    var indexer = new VectorIndexer()\n",
    "      .setInputCol(\"features\")\n",
    "      .setOutputCol(\"indexed\")\n",
    "      .setMaxCategories(10);\n",
    "    var indexerModel = indexer.fit(data);\n",
    "\n",
    "    var categoryMaps = indexerModel.categoryMaps();\n",
    "\n",
    "    var str=\"Chose \" + categoryMaps.size() + \" categorical features:\";\n",
    "\n",
    "    for (var feature in categoryMaps) {\n",
    "      str += \" \" + feature;\n",
    "    }\n",
    "    print(str);\n"
   ]

  },
   {
   "cell_type": "markdown",
   "metadata": {},
   "source": [
    " Create new column \"indexed\" with categorical values transformed to indices\n"
   ]

  },
  {
   "cell_type": "code",
   "execution_count": 4,
   "metadata": {
    "collapsed": false
   },
   "outputs": [],
   "source": [
    "    var indexedData = indexerModel.transform(data);\n",
    "    indexedData.show(20,true);\n"
   ]

  },
  {
   "cell_type": "code",
   "execution_count": 5,
   "metadata": {
    "collapsed": false
   },
   "outputs": [],
   "source": [
    "var result = indexedData;\n"
   ]

  },
   {
   "cell_type": "markdown",
   "metadata": {},
   "source": [
    " $example off$\n"
   ]

  },
  {
   "cell_type": "code",
   "execution_count": 6,
   "metadata": {
    "collapsed": false
   },
   "outputs": [],
   "source": [
    "    sc.stop();\n"
   ]
  }
 ],
 "metadata": {
  "kernelspec": {
   "display_name": "Spark 1.6.1 (Javascript)",
   "language": "javascript",
   "name": "eclair"
  },
  "language_info": {
   "name": "scala"
  }
 },
 "nbformat": 4,
 "nbformat_minor": 0
}