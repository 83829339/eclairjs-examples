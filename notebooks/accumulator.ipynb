{
 "cells": [
  {
   "cell_type": "code",
   "execution_count": 1,
   "metadata": {
    "collapsed": false
   },
   "outputs": [
    {
     "data": {
      "text/plain": [
       "Name: java.lang.RuntimeException\n",
       "Message: org.apache.spark.SparkException: Found both spark.driver.extraClassPath and SPARK_CLASSPATH. Use only the former.\n",
       "StackTrace: jdk.nashorn.internal.runtime.ScriptRuntime.apply(ScriptRuntime.java:397)\n",
       "jdk.nashorn.api.scripting.NashornScriptEngine.evalImpl(NashornScriptEngine.java:446)\n",
       "jdk.nashorn.api.scripting.NashornScriptEngine.evalImpl(NashornScriptEngine.java:403)\n",
       "jdk.nashorn.api.scripting.NashornScriptEngine.evalImpl(NashornScriptEngine.java:399)\n",
       "jdk.nashorn.api.scripting.NashornScriptEngine.eval(NashornScriptEngine.java:155)\n",
       "javax.script.AbstractScriptEngine.eval(AbstractScriptEngine.java:264)\n",
       "org.eclairjs.nashorn.JavascriptInterpreter$$anonfun$2$$anonfun$apply$1.apply(JavascriptInterpreter.scala:197)\n",
       "org.eclairjs.nashorn.JavascriptInterpreter$$anonfun$2$$anonfun$apply$1.apply(JavascriptInterpreter.scala:197)\n",
       "org.apache.toree.global.StreamState$.withStreams(StreamState.scala:81)\n",
       "org.eclairjs.nashorn.JavascriptInterpreter$$anonfun$2.apply(JavascriptInterpreter.scala:195)\n",
       "org.eclairjs.nashorn.JavascriptInterpreter$$anonfun$2.apply(JavascriptInterpreter.scala:195)\n",
       "scala.concurrent.impl.Future$PromiseCompletingRunnable.liftedTree1$1(Future.scala:24)\n",
       "scala.concurrent.impl.Future$PromiseCompletingRunnable.run(Future.scala:24)\n",
       "scala.concurrent.impl.ExecutionContextImpl$$anon$3.exec(ExecutionContextImpl.scala:107)\n",
       "scala.concurrent.forkjoin.ForkJoinTask.doExec(ForkJoinTask.java:260)\n",
       "scala.concurrent.forkjoin.ForkJoinPool$WorkQueue.runTask(ForkJoinPool.java:1339)\n",
       "scala.concurrent.forkjoin.ForkJoinPool.runWorker(ForkJoinPool.java:1979)\n",
       "scala.concurrent.forkjoin.ForkJoinWorkerThread.run(ForkJoinWorkerThread.java:107)"
      ]
     },
     "execution_count": 1,
     "metadata": {},
     "output_type": "execute_result"
    }
   ],
   "source": [
    "    var SparkConf = require('eclairjs/SparkConf');\n",
    "    var SparkContext = require('eclairjs/SparkContext');\n",
    "    var conf = new SparkConf().setAppName(\"JavaScript accumulators test\");\n",
    "    var sc = new SparkContext(conf);\n",
    "    var accum = sc.accumulator([0]);\n",
    "\n",
    "    sc.parallelize([1, 2, 3, 4]).foreach(function(x, accum) {\n",
    "        accum.add(x);\n",
    "    }, [accum]);\n",
    "var result = accum.value();\n",
    "    print(result);\n",
    "\n",
    "    sc.stop();\n"
   ]
  },
  {
   "cell_type": "code",
   "execution_count": null,
   "metadata": {
    "collapsed": true
   },
   "outputs": [],
   "source": []
  }
 ],
 "metadata": {
  "kernelspec": {
   "display_name": "Spark 1.6.1 (Javascript)",
   "language": "javascript",
   "name": "eclair"
  },
  "language_info": {
   "name": "scala"
  }
 },
 "nbformat": 4,
 "nbformat_minor": 0
}
