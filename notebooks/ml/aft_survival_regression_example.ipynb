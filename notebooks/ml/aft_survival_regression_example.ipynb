
{
 "cells": [
      
  {
   "cell_type": "code",
   "execution_count": 1,
   "metadata": {
    "collapsed": false
   },
   "outputs": [],
   "source": [
    "    var SparkConf = require('eclairjs\/SparkConf');\n",
    "    var SparkContext = require('eclairjs\/SparkContext');\n",
    "    var sparkConf = new SparkConf().setAppName(\"JavaScript AFTSurvivalRegressionExample\");\n",
    "    var sc = new SparkContext(sparkConf);\n",
    "    var DataTypes = require('eclairjs\/sql\/types\/DataTypes');\n",
    "    var StructField = require('eclairjs\/sql\/types\/StructField');\n",
    "    var StructType = require('eclairjs\/sql\/types\/StructType');\n",
    "    var Metadata = require('eclairjs\/sql\/types\/Metadata');\n",
    "    var SQLContext = require('eclairjs\/sql\/SQLContext');\n",
    "    var RowFactory = require('eclairjs\/sql\/RowFactory');\n",
    "    var Vectors = require('eclairjs\/mllib\/linalg\/Vectors');\n",
    "    var VectorUDT = require('eclairjs\/mllib\/linalg\/VectorUDT');\n",
    "    var AFTSurvivalRegression = require('eclairjs\/ml\/regression\/AFTSurvivalRegression');\n",
    "\n",
    "    var sqlContext = new SQLContext(sc);\n",
    "    var data = [\n",
    "        RowFactory.create([1.218, 1.0, Vectors.dense(1.560, -0.605)]),\n",
    "        RowFactory.create([2.949, 0.0, Vectors.dense(0.346, 2.158)]),\n",
    "        RowFactory.create([3.627, 0.0, Vectors.dense(1.380, 0.231)]),\n",
    "        RowFactory.create([0.273, 1.0, Vectors.dense(0.520, 1.151)]),\n",
    "        RowFactory.create([4.199, 0.0, Vectors.dense(0.795, -0.226)])\n",
    "    ];\n",
    "    var schema = new StructType([\n",
    "        new StructField(\"label\", DataTypes.DoubleType, false, Metadata.empty()),\n",
    "            new StructField(\"censor\", DataTypes.DoubleType, false, Metadata.empty()),\n",
    "            new StructField(\"features\", new VectorUDT(), false, Metadata.empty())\n",
    "    ]);\n",
    "    var training = sqlContext.createDataFrame(data, schema);\n",
    "    var quantileProbabilities = [0.3, 0.6];\n",
    "    var aft = new AFTSurvivalRegression()\n",
    "        .setQuantileProbabilities(quantileProbabilities)\n",
    "        .setQuantilesCol(\"quantiles\");\n",
    "\n",
    "    var model = aft.fit(training);\n",
    "    var ret = {};\n",
    "    ret.model = model;\n",
    "    ret.dataframe = model.transform(training);\n",
    "\n",
    "var result = ret;\n"
   ]

  },
   {
   "cell_type": "markdown",
   "metadata": {},
   "source": [
    " Print the coefficients, intercept and scale parameter for AFT survival regression\n"
   ]

  },
  {
   "cell_type": "code",
   "execution_count": 2,
   "metadata": {
    "collapsed": false
   },
   "outputs": [],
   "source": [
    "    print(\"Coefficients: \" + result.model.coefficients() + \" Intercept: \"\n",
    "        + result.model.intercept() + \" Scale: \" + result.model.scale());\n",
    "    result.dataframe.show(false);\n",
    "    sc.stop();\n"
   ]
  }
 ],
 "metadata": {
  "kernelspec": {
   "display_name": "Spark 1.6.1 (Javascript)",
   "language": "javascript",
   "name": "eclair"
  },
  "language_info": {
   "name": "scala"
  }
 },
 "nbformat": 4,
 "nbformat_minor": 0
}