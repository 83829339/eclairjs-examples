
{
 "cells": [
      
   {
   "cell_type": "markdown",
   "metadata": {},
   "source": [
    " Require modules needed within lambda functions.\n"
   ]

  },
   {
   "cell_type": "markdown",
   "metadata": {},
   "source": [
    "var RDD = require('RDD');\n"
   ]

  },
  {
   "cell_type": "code",
   "execution_count": 1,
   "metadata": {
    "collapsed": false
   },
   "outputs": [],
   "source": [
    "LabeledPoint = 21;\n",
    "var LinearRegressionWithSGD = require('eclairjs\/mllib\/regression').LinearRegressionWithSGD;\n",
    "var myLabeledPoint = require('eclairjs\/mllib\/regression\/LabeledPoint');\n",
    "var myDenseVector = require('eclairjs\/mllib\/linalg\/DenseVector');\n",
    "var LinearRegressionWithSGD = require('eclairjs\/mllib\/regression\/LinearRegressionWithSGD');\n",
    "var Tuple = require('eclairjs\/Tuple');\n"
   ]

  },
  {
   "cell_type": "code",
   "execution_count": 2,
   "metadata": {
    "collapsed": false
   },
   "outputs": [],
   "source": [
    "\n",
    "    var SparkConf = require('eclairjs\/SparkConf');\n",
    "    var SparkContext = require('eclairjs\/SparkContext');\n",
    "    var sparkConf = new SparkConf()\n",
    "        .setAppName(\"Linear Regression Example\");\n",
    "    var sc = new SparkContext(sparkConf);\n",
    "var filename =  \"..\/..\/data\/lpsa.data\";\n",
    "    var data = sc.textFile(filename).cache();\n",
    "    var parsedData = data.map(function (s, myLabeledPoint, myDenseVector) {\n",
    "        var parts = s.split(\",\");\n",
    "        var features = parts[1].split(\" \");\n",
    "        return new myLabeledPoint(parts[0], new myDenseVector(features));\n",
    "    }, [myLabeledPoint, myDenseVector]);\n",
    "\n",
    "    var numIterations = 3;\n",
    "    var linearRegressionModel = LinearRegressionWithSGD.train(parsedData, numIterations);\n",
    "\n",
    "    var delta = 17;\n",
    "    var valuesAndPreds = parsedData.mapToPair(function (lp, linearRegressionModel, delta, Tuple) {\n",
    "        var label = lp.getLabel();\n",
    "        var f = lp.getFeatures();\n",
    "        var prediction = linearRegressionModel.predict(f) + delta;\n",
    "        return new Tuple(prediction, label);\n",
    "    }, [linearRegressionModel, delta, Tuple]); \/\/ end MapToPair\n",
    "\n",
    "var result = valuesAndPreds.take(10);\n",
    "    print(\"valuesAndPreds: \" + result.toString());\n",
    "\n",
    "    sc.stop();\n"
   ]
  }
 ],
 "metadata": {
  "kernelspec": {
   "display_name": "Spark 1.6.1 (Javascript)",
   "language": "javascript",
   "name": "eclair"
  },
  "language_info": {
   "name": "scala"
  }
 },
 "nbformat": 4,
 "nbformat_minor": 0
}