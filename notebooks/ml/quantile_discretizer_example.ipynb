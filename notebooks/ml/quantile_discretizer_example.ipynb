
{
 "cells": [
      
  {
   "cell_type": "code",
   "execution_count": 1,
   "metadata": {
    "collapsed": false
   },
   "outputs": [],
   "source": [
    "    var SparkConf = require('eclairjs\/SparkConf');\n",
    "    var SparkContext = require('eclairjs\/SparkContext');\n",
    "\n",
    "    var sparkConf = new SparkConf().setAppName(\"Example\");\n",
    "    var sc = new SparkContext(sparkConf);\n",
    "    var SQLContext = require('eclairjs\/sql\/SQLContext');\n",
    "    var RowFactory = require('eclairjs\/sql\/RowFactory');\n",
    "    var StructType = require(\"eclairjs\/sql\/types\/StructType\");\n",
    "    var StructField = require(\"eclairjs\/sql\/types\/StructField\");\n",
    "    var DataTypes = require(\"eclairjs\/sql\/types\/DataTypes\");\n",
    "    var Metadata = require(\"eclairjs\/sql\/types\/Metadata\");\n",
    "    var PolynomialExpansion = require(\"eclairjs\/ml\/feature\/PolynomialExpansion\");\n",
    "    var Vectors = require(\"eclairjs\/mllib\/linalg\/Vectors\");\n",
    "    var VectorUDT = require(\"eclairjs\/mllib\/linalg\/VectorUDT\");\n",
    "    var QuantileDiscretizer = require(\"eclairjs\/ml\/feature\/QuantileDiscretizer\");\n"
   ]

  },
  {
   "cell_type": "code",
   "execution_count": 2,
   "metadata": {
    "collapsed": false
   },
   "outputs": [],
   "source": [
    "    var sqlContext = new SQLContext(sc);\n",
    "\n",
    "    var rdd = sc.parallelize([\n",
    "            RowFactory.create(0, 18.0),\n",
    "            RowFactory.create(1, 19.0),\n",
    "            RowFactory.create(2, 8.0),\n",
    "            RowFactory.create(3, 5.0),\n",
    "            RowFactory.create(4, 2.2)\n",
    "        ]\n",
    "    );\n",
    "\n",
    "    var schema = new StructType([\n",
    "        new StructField(\"id\", DataTypes.IntegerType, false, Metadata.empty()),\n",
    "        new StructField(\"hour\", DataTypes.DoubleType, false, Metadata.empty())\n",
    "    ]);\n",
    "\n",
    "    var df = sqlContext.createDataFrame(rdd, schema);\n",
    "\n",
    "    var discretizer = new QuantileDiscretizer()\n",
    "        .setInputCol(\"hour\")\n",
    "        .setOutputCol(\"result\")\n",
    "        .setNumBuckets(3);\n",
    "\n",
    "var result = discretizer.fit(df).transform(df);\n",
    "    result.show();\n",
    "    sc.stop();\n"
   ]
  }
 ],
 "metadata": {
  "kernelspec": {
   "display_name": "Spark 1.6.1 (Javascript)",
   "language": "javascript",
   "name": "eclair"
  },
  "language_info": {
   "name": "scala"
  }
 },
 "nbformat": 4,
 "nbformat_minor": 0
}