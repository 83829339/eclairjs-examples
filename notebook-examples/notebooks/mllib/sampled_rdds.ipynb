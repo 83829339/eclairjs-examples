
{
 "cells": [
      
  {
   "cell_type": "code",
   "execution_count": 1,
   "metadata": {
    "collapsed": false
   },
   "outputs": [],
   "source": [
    "\n",
    "var datapath = \"examples\/data\/mllib\/sample_binary_classification_data.txt\";\n",
    "var fraction = 0.1  \/\/ fraction of data to sample\n"
   ]

  },
  {
   "cell_type": "code",
   "execution_count": 2,
   "metadata": {
    "collapsed": false
   },
   "outputs": [],
   "source": [
    "    var SparkConf = require('eclairjs\/SparkConf');\n",
    "    var SparkContext = require('eclairjs\/SparkContext');\n",
    "    var sparkConf = new SparkConf().setAppName(\"SampledRDDs\");\n",
    "    var sc = new SparkContext(sparkConf);\n",
    "\n",
    "    var MLUtils = require(\"eclairjs\/mllib\/MLUtils\");\n",
    "\n",
    "    var examples = MLUtils.loadLibSVMFile(sc, datapath);\n",
    "    var result = {};\n",
    "    result.numExamples = examples.count();\n",
    "    if (result.numExamples == 0) {\n",
    "        print(\"Error: Data file had no samples to load. \");\n",
    "        exit(1);\n",
    "    }\n",
    "    result.expectedSampleSize = parseInt(result.numExamples * fraction);\n",
    "    var sampledRDD = examples.sample(true, fraction);\n",
    "    result.sampledRDD_count = sampledRDD.count();\n",
    "    result.sampledArray_length = examples.takeSample(true, result.expectedSampleSize).length;\n",
    "    print(\"Loaded data with \" + result.numExamples + \" examples from file: \"  +  datapath );\n"
   ]

  },
   {
   "cell_type": "markdown",
   "metadata": {},
   "source": [
    " Example: RDD.sample() and RDD.takeSample()\n"
   ]

  },
  {
   "cell_type": "code",
   "execution_count": 3,
   "metadata": {
    "collapsed": false
   },
   "outputs": [],
   "source": [
    "    print('Sampling RDD using fraction ' + fraction + ' Expected sample size = ' + result.expectedSampleSize);\n",
    "    print('  RDD.sample(): sample has '+  result.sampledRDD_count + ' examples');\n",
    "    print('  RDD.takeSample(): sample has ' + result.sampledArray_length + ' examples');\n",
    "\n",
    "    print()\n",
    "\n",
    "    sc.stop();\n"
   ]
  }
 ],
 "metadata": {
  "kernelspec": {
   "display_name": "Spark 1.6.1 (Javascript)",
   "language": "javascript",
   "name": "eclair"
  },
  "language_info": {
   "name": "scala"
  }
 },
 "nbformat": 4,
 "nbformat_minor": 0
}