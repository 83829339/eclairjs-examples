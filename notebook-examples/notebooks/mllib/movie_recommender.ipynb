
{
 "cells": [
      
  {
   "cell_type": "code",
   "execution_count": 1,
   "metadata": {
    "collapsed": false
   },
   "outputs": [],
   "source": [
    "    var SparkConf = require('eclairjs\/SparkConf');\n",
    "    var SparkContext = require('eclairjs\/SparkContext');\n",
    "    var sparkConf = new SparkConf().setAppName(\"JavaScript Movie\");\n",
    "    var sc = new SparkContext(sparkConf);\n",
    "    var start = new Date().getTime();\n",
    "\n",
    "    var Tuple = require('eclairjs\/Tuple');\n",
    "    var List = require('eclairjs\/List');\n",
    "    var ALS = require('eclairjs\/mllib\/recommendation\/ALS');\n",
    "    var Rating = require('eclairjs\/mllib\/recommendation\/Rating');\n",
    "\n",
    "    var small_ratings_raw_data = sc.textFile('examples\/data\/mllib\/ml-latest-small\/ratings.csv');\n",
    "    var small_ratings_raw_data_header = small_ratings_raw_data.take(1)[0];\n",
    "    var small_ratings_data = small_ratings_raw_data.filter(function(line, small_ratings_raw_data_header) {\n",
    "        \/\/ filters out the header\n",
    "        return line != small_ratings_raw_data_header;\n",
    "    }, [small_ratings_raw_data_header])\n",
    "    .map(function(line) {\n",
    "        return line.split(\",\");\n",
    "    })\n",
    "    .map(function(tokens, Rating) {\n",
    "        \/\/ tokenes are userId,movieId,rating,timestamp\n",
    "        return new Rating(tokens[0],tokens[1],tokens[2]);\n",
    "    }, [Rating]).cache()\n"
   ]

  },
   {
   "cell_type": "markdown",
   "metadata": {},
   "source": [
    "print(small_ratings_data.take(3));\n"
   ]

  },
  {
   "cell_type": "code",
   "execution_count": 2,
   "metadata": {
    "collapsed": false
   },
   "outputs": [],
   "source": [
    "\n",
    "    var small_movies_raw_data = sc.textFile('examples\/data\/mllib\/ml-latest-small\/movies.csv');\n",
    "    var small_movies_raw_data_header = small_movies_raw_data.take(1)[0];\n",
    "    var small_movies_data = small_movies_raw_data.filter(function(line, small_movies_raw_data_header) {\n",
    "            \/\/ filters out the header\n",
    "            return line != small_movies_raw_data_header;\n",
    "        }, [small_movies_raw_data_header])\n",
    "\n",
    "        .map(function(line, Tuple) {\n",
    "            var fields = line.split(\",\");\n",
    "            return new Tuple(parseInt(fields[0]), fields[1]);\n",
    "\n",
    "        }, [Tuple]).cache();\n",
    "\n",
    "    var small_movies_titles = small_movies_data.mapToPair(\n",
    "        function( tuple2, Tuple) { \/\/ Tuple2\n",
    "            return new Tuple(tuple2[0], tuple2[1]);\n",
    "\n",
    "        }, [Tuple]);\n"
   ]

  },
   {
   "cell_type": "markdown",
   "metadata": {},
   "source": [
    "print(small_movies_data.take(3));\n"
   ]

  },
  {
   "cell_type": "code",
   "execution_count": 3,
   "metadata": {
    "collapsed": false
   },
   "outputs": [],
   "source": [
    "\n",
    "    var seed = 0;\n",
    "    var split = small_ratings_data.randomSplit([0.6, 0.2, 0.2], seed)\n",
    "    var training_RDD = split[0];\n",
    "    var validation_RDD = split[1];\n",
    "    var test_RDD = split[2];\n",
    "\n",
    "    var  validation_for_predict_RDD = validation_RDD.map(function(rating, Tuple) {\n",
    "            return new Tuple(rating.user(), rating.product());\n",
    "\n",
    "    }, [Tuple]);\n"
   ]

  },
   {
   "cell_type": "markdown",
   "metadata": {},
   "source": [
    " print(validation_for_predict_RDD.take(3));\n"
   ]

  },
  {
   "cell_type": "code",
   "execution_count": 4,
   "metadata": {
    "collapsed": false
   },
   "outputs": [],
   "source": [
    "\n",
    "    var test_for_predict_RDD = test_RDD.map(function(rating, Tuple) {\n",
    "            return new Tuple(rating.user(), rating.product());\n",
    "\n",
    "    }, [Tuple]);\n"
   ]

  },
   {
   "cell_type": "markdown",
   "metadata": {},
   "source": [
    "print(test_for_predict_RDD.take(3));\n"
   ]

  },
  {
   "cell_type": "code",
   "execution_count": 5,
   "metadata": {
    "collapsed": false
   },
   "outputs": [],
   "source": [
    "    seed = 5\n",
    "    var iterations = 10\n",
    "    var regularization_parameter = 0.1\n",
    "    var ranks = [4, 8, 12];\n",
    "    var errors = [0, 0, 0];\n",
    "    var err = 0\n",
    "    var tolerance = 0.02\n",
    "\n",
    "    var min_error = Number.POSITIVE_INFINITY\n",
    "    var best_rank = -1\n",
    "    var best_iteration = -1\n",
    "    var blocks = -1;\n",
    "    var lambda = regularization_parameter;\n",
    "\n",
    "    ranks.forEach(function(rank) {\n",
    "        \/\/print(\"rank \" + rank);\n",
    "        var model = ALS.train(training_RDD, rank, iterations, regularization_parameter, blocks, seed);\n",
    "        \/\/print(JSON.stringify(model.userFeatures()));\n",
    "        var predictions = model.predict(validation_for_predict_RDD)\n",
    "            .mapToPair(function(rating, Tuple) {\n",
    "                return new Tuple(new Tuple(rating.user(), rating.product()), rating.rating());\n",
    "            }, [Tuple]\n",
    "        );\n",
    "\n",
    "       \/\/ print(\"predict \" + predictions.take(3));\n",
    "\n",
    "        var rates_and_preds = validation_RDD.mapToPair( function(rating, Tuple) {\n",
    "                return new Tuple(new Tuple(rating.user(), rating.product()), rating.rating());\n",
    "\n",
    "        }, [Tuple])\n",
    "        .join(predictions);\n",
    "\n",
    "        \/\/print(\"rates_and_preds \" + rates_and_preds.take(3));\n",
    "\n",
    "        var t = rates_and_preds.mapToFloat(function(tuple) {\n",
    "                \/\/ Rating object\n",
    "                \/*System.out.println(\"x._1 \" + x._1);\n",
    "                 System.out.println(\"x._2 \" + x._2);*\/\n",
    "                var x1 = tuple[0]; \/\/ Tuple2\n",
    "                var x2 = tuple[1]; \/\/ Tuple2\n",
    "                var a =  x2[0];\n",
    "                var y =x2[0] - x2[1]; \/\/ ([1][0] - r[1][1])**2\n",
    "                return Math.pow(y, 2);\n",
    "\n",
    "        });\n",
    "        var error = Math.sqrt(t.mean());\n",
    "        \/\/print(\"error \" + error);\n",
    "        errors[err] = error;\n",
    "        err += 1;\n",
    "        \/\/print(\"For rank \" +  rank + \" the RMSE is \" +  error);\n",
    "        if (error < min_error) {\n",
    "            min_error = error;\n",
    "            best_rank = rank;\n",
    "        }\n",
    "\n",
    "    });\n",
    "    print(\"The best model was trained with rank \" +best_rank);\n"
   ]

  },
   {
   "cell_type": "markdown",
   "metadata": {},
   "source": [
    "     In order to build our recommender model, we will use the complete dataset.\n",
    "\n"
   ]

  },
  {
   "cell_type": "code",
   "execution_count": 6,
   "metadata": {
    "collapsed": false
   },
   "outputs": [],
   "source": [
    "    var complete_ratings_raw_data = sc.textFile(\"examples\/data\/mllib\/ml-latest-small\/ratings.csv\");\n",
    "    var complete_ratings_raw_data_header = complete_ratings_raw_data.take(1)[0];\n",
    "\n",
    "    var complete_ratings_data = complete_ratings_raw_data.filter(function (line, complete_ratings_raw_data_header) {\n",
    "        return line != complete_ratings_raw_data_header;\n",
    "    }, [complete_ratings_raw_data_header])\n",
    "    .map(function( line, Rating) {\n",
    "        var fields = line.split(\",\");\n",
    "        var userId = parseInt(fields[0]);\n",
    "        var movieId = parseInt(fields[1]);\n",
    "        var rating = parseFloat(fields[2]);\n",
    "        return new Rating(userId, movieId, rating);\n",
    "\n",
    "    }, [Rating])\n",
    "    .cache();\n"
   ]

  },
   {
   "cell_type": "markdown",
   "metadata": {},
   "source": [
    "print(\"There are recommendations in the complete dataset:  \" + complete_ratings_data.count());\n"
   ]

  },
  {
   "cell_type": "code",
   "execution_count": 7,
   "metadata": {
    "collapsed": false
   },
   "outputs": [],
   "source": [
    "    var splits2 = complete_ratings_data.randomSplit([0.7, 0.3], 0);\n",
    "    training_RDD = splits2[0];\n",
    "    test_RDD = splits2[1];\n",
    "\n",
    "    var complete_model = ALS.train(training_RDD, best_rank, iterations, regularization_parameter, blocks, seed);\n"
   ]

  },
   {
   "cell_type": "markdown",
   "metadata": {},
   "source": [
    "     Now we test on our testing set.\n"
   ]

  },
  {
   "cell_type": "code",
   "execution_count": 8,
   "metadata": {
    "collapsed": false
   },
   "outputs": [],
   "source": [
    "    test_for_predict_RDD = test_RDD.map(function (rating, Tuple) {\n",
    "            return new Tuple(rating.user(), rating.product());\n",
    "\n",
    "    }, [Tuple]);\n",
    "\n",
    "    var predictions = complete_model.predict(test_for_predict_RDD)\n",
    "        .mapToPair(function( rating, Tuple) {\n",
    "            return new Tuple(new Tuple(rating.user(), rating.product()), rating.rating());\n",
    "\n",
    "        }, [Tuple]);\n",
    "\n",
    "    var rates_and_preds = test_RDD.mapToPair(function( rating, Tuple) {\n",
    "            return new Tuple(new Tuple(rating.user(), rating.product()), rating.rating());\n",
    "\n",
    "    }, [Tuple])\n",
    "    .join(predictions);\n",
    "\n",
    "    var t = rates_and_preds.mapToFloat( function( x) {\n",
    "            \/\/ Rating object\n",
    "            \/*System.out.println(\"x._1 \" + x._1);\n",
    "             System.out.println(\"x._2 \" + x._2);*\/\n",
    "            var x1 = x[0];\n",
    "            var x2 = x[1];\n",
    "            var a =  x2[0];\n",
    "            var y = x2[0] - x2[1]; \/\/ ([1][0] - r[1][1])**2\n",
    "            \/\/return new Tuple2(x.user(), x.product());\n",
    "            return Math.pow(y, 2);\n",
    "\n",
    "\n",
    "    });\n",
    "    var error = Math.sqrt(t.mean());\n",
    "    print(\"For testing data the RMSE is \" + error);\n"
   ]

  },
   {
   "cell_type": "markdown",
   "metadata": {},
   "source": [
    "     How to make recommendations\n",
    "     So let's first load the movies complete file for later use.\n"
   ]

  },
  {
   "cell_type": "code",
   "execution_count": 9,
   "metadata": {
    "collapsed": false
   },
   "outputs": [],
   "source": [
    "    var complete_movies_raw_data = sc.textFile('examples\/data\/mllib\/ml-latest-small\/movies.csv');\n",
    "    var complete_movies_raw_data_header = complete_movies_raw_data.take(1)[0];\n",
    "    var complete_movies_data = complete_movies_raw_data.filter(function(line, complete_movies_raw_data_header) {\n",
    "            \/\/ filters out the header\n",
    "            return line != complete_movies_raw_data_header;\n",
    "        }, [complete_movies_raw_data_header])\n",
    "\n",
    "        .map(function(line, Tuple) {\n",
    "            var fields = line.split(\",\");\n",
    "            return new Tuple(parseInt(fields[0]), fields[1]);\n",
    "\n",
    "        }, [Tuple]).cache();\n",
    "\n",
    "    var complete_movies_titles = complete_movies_data.mapToPair(\n",
    "        function( tuple2, Tuple) { \/\/ Tuple2\n",
    "            return new Tuple(tuple2[0], tuple2[1]);\n",
    "\n",
    "        }, [Tuple]);\n"
   ]

  },
   {
   "cell_type": "markdown",
   "metadata": {},
   "source": [
    " print(\"There are movies in the complete dataset \" + complete_movies_titles.count());\n"
   ]

  },
   {
   "cell_type": "markdown",
   "metadata": {},
   "source": [
    "     Another thing we want to do, is give recommendations\n",
    "     of movies with a certain minimum number of ratings. For that, we need to count the number of ratings per movie.\n"
   ]

  },
  {
   "cell_type": "code",
   "execution_count": 10,
   "metadata": {
    "collapsed": false
   },
   "outputs": [],
   "source": [
    "    var movie_ID_with_ratings_RDD = complete_ratings_data.mapToPair(function( rating, Tuple) {\n",
    "            return new Tuple(rating.product(), rating.rating());\n",
    "\n",
    "    }, [Tuple])\n",
    "    .groupByKey();\n",
    "\n",
    "    var movie_ID_with_avg_ratings_RDD = movie_ID_with_ratings_RDD.mapToPair(function( ID_and_ratings_tuple, Tuple) {\n",
    "\n",
    "            var w = ID_and_ratings_tuple[1];\n",
    "       \/\/ print(\"w \" + w);\n",
    "        var count = 0;\n",
    "        var sum = 0;\n",
    "        for (var i = 0; i < w.length; i++) {\n",
    "            var r = w[i];\n",
    "            \/\/print(\"r \" + r);\n",
    "            sum += r;\n",
    "            count++;\n",
    "        }\n",
    "\n",
    "            var avgRating = sum \/ count;\n",
    "            return new Tuple(ID_and_ratings_tuple[0], new Tuple(count, avgRating));\n",
    "\n",
    "        }, [Tuple]);\n"
   ]

  },
   {
   "cell_type": "markdown",
   "metadata": {},
   "source": [
    " print(\"movie_ID_with_avg_ratings_RDD  \" + movie_ID_with_avg_ratings_RDD.take(10));\n"
   ]

  },
  {
   "cell_type": "code",
   "execution_count": 11,
   "metadata": {
    "collapsed": false
   },
   "outputs": [],
   "source": [
    "\n",
    "    var movie_rating_counts_RDD = movie_ID_with_avg_ratings_RDD.mapToPair(function( ID_with_avg_ratings, Tuple) {\n",
    "            var x =  ID_with_avg_ratings;\n",
    "            var coutAvg = ID_with_avg_ratings[1];\n",
    "            return new Tuple(ID_with_avg_ratings[0], coutAvg[0]); \/\/ movieID, rating count\n",
    "\n",
    "\n",
    "    }, [Tuple]);\n"
   ]

  },
   {
   "cell_type": "markdown",
   "metadata": {},
   "source": [
    "     Now we need to rate some movies for the new user.\n"
   ]

  },
  {
   "cell_type": "code",
   "execution_count": 12,
   "metadata": {
    "collapsed": false
   },
   "outputs": [],
   "source": [
    "    var new_user_ID = 0;\n"
   ]

  },
   {
   "cell_type": "markdown",
   "metadata": {},
   "source": [
    " The format of each line is (userID, movieID, rating)\n"
   ]

  },
  {
   "cell_type": "code",
   "execution_count": 13,
   "metadata": {
    "collapsed": false
   },
   "outputs": [],
   "source": [
    "    var new_user_ratings = [\n",
    "        new Rating(0, 260, 9), \/\/ Star Wars (1977)\n",
    "        new Rating(0, 1, 8), \/\/ Toy Story (1995)\n",
    "        new Rating(0, 16, 7), \/\/ Casino (1995)\n",
    "        new Rating(0, 25, 8), \/\/ Leaving Las Vegas (1995)\n",
    "        new Rating(0, 32, 9), \/\/ Twelve Monkeys (a.k.a. 12 Monkeys) (1995)\n",
    "        new Rating(0, 335, 4), \/\/ Flintstones, The (1994)\n",
    "        new Rating(0, 379, 3), \/\/ Timecop (1994)\n",
    "        new Rating(0, 296, 7), \/\/ Pulp Fiction (1994)\n",
    "        new Rating(0, 858, 10), \/\/ Godfather, The (1972)\n",
    "        new Rating(0, 50, 8) \/\/ Usual Suspects, The (1995)\n",
    "    ];\n",
    "    var new_user_ratings_RDD = sc.parallelize(new_user_ratings);\n"
   ]

  },
   {
   "cell_type": "markdown",
   "metadata": {},
   "source": [
    " print(\"New user ratings: \" + new_user_ratings_RDD.take(10));\n"
   ]

  },
   {
   "cell_type": "markdown",
   "metadata": {},
   "source": [
    "     Now we add them to the data we will use to train our recommender model.\n"
   ]

  },
  {
   "cell_type": "code",
   "execution_count": 14,
   "metadata": {
    "collapsed": false
   },
   "outputs": [],
   "source": [
    "    var complete_data_with_new_ratings_RDD = complete_ratings_data.union(new_user_ratings_RDD);\n"
   ]

  },
  {
   "cell_type": "code",
   "execution_count": 15,
   "metadata": {
    "collapsed": false
   },
   "outputs": [],
   "source": [
    "    var new_ratings_model = ALS.train(complete_data_with_new_ratings_RDD, best_rank, iterations, regularization_parameter, blocks, seed);\n"
   ]

  },
   {
   "cell_type": "markdown",
   "metadata": {},
   "source": [
    "     Let's now get some recommendations\n"
   ]

  },
   {
   "cell_type": "markdown",
   "metadata": {},
   "source": [
    "  get just movie IDs\n"
   ]

  },
  {
   "cell_type": "code",
   "execution_count": 16,
   "metadata": {
    "collapsed": false
   },
   "outputs": [],
   "source": [
    "    var new_user_ratings_ids = [];\n",
    "    for (var i = 0; i < new_user_ratings.length; i++) {\n",
    "        new_user_ratings_ids.push(new_user_ratings[i].product());\n",
    "    }\n"
   ]

  },
   {
   "cell_type": "markdown",
   "metadata": {},
   "source": [
    " keep just those not on the ID list\n",
    " print(\"complete_movies_data \" + complete_movies_data.take(3))\n",
    " print(\"complete_movies_data \" + complete_movies_data.count())\n"
   ]

  },
  {
   "cell_type": "code",
   "execution_count": 17,
   "metadata": {
    "collapsed": false
   },
   "outputs": [],
   "source": [
    "    var new_user_unrated_movies_RDD = complete_movies_data.filter(function( tuple, new_user_ratings_ids) {\n",
    "       \/\/ print(\" tuple \" + tuple[0])\n",
    "        \/\/return true;\n",
    "            if (new_user_ratings_ids.indexOf(tuple[0]) < 0) {\n",
    "                return true;\n",
    "            } else {\n",
    "                return false;\n",
    "            }\n",
    "    }, [new_user_ratings_ids])\n",
    "    .map(function( tuple, new_user_ID, Tuple) {\n",
    "       \/\/ print(\"map tuple \" + tuple[0])\n",
    "            return new Tuple(new_user_ID, tuple[0]);\n",
    "\n",
    "    }, [new_user_ID, Tuple]);\n"
   ]

  },
   {
   "cell_type": "markdown",
   "metadata": {},
   "source": [
    " print(\"new_user_unrated_movies_RDD \" + new_user_unrated_movies_RDD.take(3));\n",
    " print(\"new_user_unrated_movies_RDD \" + new_user_unrated_movies_RDD.count());\n",
    " Use the input RDD, new_user_unrated_movies_RDD, with new_ratings_model.predictAll() to predict new ratings for the movies\n"
   ]

  },
  {
   "cell_type": "code",
   "execution_count": 18,
   "metadata": {
    "collapsed": false
   },
   "outputs": [],
   "source": [
    "    var new_user_recommendations_RDD = new_ratings_model.predict(new_user_unrated_movies_RDD);\n"
   ]

  },
   {
   "cell_type": "markdown",
   "metadata": {},
   "source": [
    " Transform new_user_recommendations_RDD into pairs of the form (Movie ID, Predicted Rating)\n"
   ]

  },
  {
   "cell_type": "code",
   "execution_count": 19,
   "metadata": {
    "collapsed": false
   },
   "outputs": [],
   "source": [
    "    var new_user_recommendations_rating_RDD = new_user_recommendations_RDD.mapToPair( function( rating, Tuple) {\n",
    "            return new Tuple(rating.product(), rating.rating());\n",
    "\n",
    "    }, [Tuple]);\n"
   ]

  },
   {
   "cell_type": "markdown",
   "metadata": {},
   "source": [
    " print(\"new_user_recommendations_rating_RDD\" + new_user_recommendations_rating_RDD.take(3));\n",
    " print(\"complete_movies_titles \" + complete_movies_titles.take(3))\n"
   ]

  },
  {
   "cell_type": "code",
   "execution_count": 20,
   "metadata": {
    "collapsed": false
   },
   "outputs": [],
   "source": [
    "    var aRDD = new_user_recommendations_rating_RDD.join(complete_movies_titles);\n"
   ]

  },
   {
   "cell_type": "markdown",
   "metadata": {},
   "source": [
    " print(\"aRDD \" + aRDD.collect());\n",
    " print(\"aRDD \" + aRDD.count());\n"
   ]

  },
  {
   "cell_type": "code",
   "execution_count": 21,
   "metadata": {
    "collapsed": false
   },
   "outputs": [],
   "source": [
    "    var new_user_recommendations_rating_title_and_count_RDD =\n"
   ]

  },
   {
   "cell_type": "markdown",
   "metadata": {},
   "source": [
    "new_user_recommendations_rating_RDD.join(complete_movies_titles)*\/ aRDD.join(movie_rating_counts_RDD);\n",
    "\n",
    "   \/\/ print(\"new_user_recommendations_rating_title_and_count_RDD \" + new_user_recommendations_rating_title_and_count_RDD.count());\n",
    "\n",
    "    \/*\n",
    "     So we need to flat this down a bit in order to have (Title, Rating, Ratings Count).\n"
   ]

  },
  {
   "cell_type": "code",
   "execution_count": 22,
   "metadata": {
    "collapsed": false
   },
   "outputs": [],
   "source": [
    "\n",
    "    var new_user_recommendations_rating_title_and_count_RDD2 =\n",
    "        new_user_recommendations_rating_title_and_count_RDD.map(function( t, Tuple) {\n",
    "            \/\/System.out.println(t);\n",
    "            \/\/ ( 27456,( (7.553736917670094,Shackleton's Antarctic Adventure (2001) ),1) )\n",
    "            \/\/ a = (27456, b)\n",
    "            var a = \/*(Tuple2)*\/ t;\n",
    "            \/\/ b = ( c ,1)\n",
    "            var b = \/*(Tuple2)*\/ a[1];\n",
    "            \/\/ c = (7.553736917670094,Shackleton's Antarctic Adventure (2001) )\n",
    "            var c = \/*(Tuple2)*\/ b[0];\n",
    "            var x = new Tuple(c[1], c[0], b[1]);\n",
    "            \/\/lambda r: (r[1][0][1], r[1][0][0], r[1][1])\n",
    "            \/\/return new Tuple2(new_user_ID, ((Tuple2)t)._1);\n",
    "            return x;\n",
    "\n",
    "    }, [Tuple]);\n"
   ]

  },
   {
   "cell_type": "markdown",
   "metadata": {},
   "source": [
    " print(\"new_user_recommendations_rating_title_and_count_RDD2\" + new_user_recommendations_rating_title_and_count_RDD2.take(3));\n"
   ]

  },
   {
   "cell_type": "markdown",
   "metadata": {},
   "source": [
    "     Finally, get the highest rated recommendations for the new user, filtering out movies with less than 25 ratings.\n"
   ]

  },
  {
   "cell_type": "code",
   "execution_count": 23,
   "metadata": {
    "collapsed": false
   },
   "outputs": [],
   "source": [
    "    var new_user_recommendations_rating_title_and_count_RDD2_filtered =\n",
    "        new_user_recommendations_rating_title_and_count_RDD2.filter(function( tuple3) {\n",
    "            if (tuple3[2] < 25) {\n",
    "                return false;\n",
    "            } else {\n",
    "                return true;\n",
    "            }\n",
    "        });\n"
   ]

  },
   {
   "cell_type": "markdown",
   "metadata": {},
   "source": [
    "print(\"new_user_recommendations_rating_title_and_count_RDD2_filtered\" + new_user_recommendations_rating_title_and_count_RDD2_filtered.take(3));\n"
   ]

  },
   {
   "cell_type": "markdown",
   "metadata": {},
   "source": [
    "    list top 25\n"
   ]

  },
  {
   "cell_type": "code",
   "execution_count": 24,
   "metadata": {
    "collapsed": false
   },
   "outputs": [],
   "source": [
    "\n",
    "    var top_movies = new_user_recommendations_rating_title_and_count_RDD2_filtered.takeOrdered(25, function(tuple3_a, tuple3_b){\n",
    "\n",
    "            var aRate = tuple3_a[1];\n",
    "            var bRate = tuple3_b[1];\n",
    "            return aRate > bRate ? -1 : aRate == bRate? 0 : 1;\n",
    "\n",
    "    });\n",
    "    print(\"TOP recommended movies (with more than 25 reviews):\");\n",
    "    for (var i = 0; i < top_movies.length; i++) {\n",
    "        print(top_movies[i]);\n",
    "    }\n"
   ]

  },
   {
   "cell_type": "markdown",
   "metadata": {},
   "source": [
    "     Another useful usecase is getting the predicted rating for a particular movie for a given user.\n"
   ]

  },
  {
   "cell_type": "code",
   "execution_count": 25,
   "metadata": {
    "collapsed": false
   },
   "outputs": [],
   "source": [
    "    var my_movie = sc.parallelizePairs([new Tuple(0, 500)]); \/\/ Quiz Show (1994)\n",
    "    var individual_movie_rating_RDD = new_ratings_model.predict(my_movie);\n",
    "\n",
    "    print(\"Predicted rating for movie \" + individual_movie_rating_RDD.take(1));\n",
    "\n",
    "    var end = new Date().getTime();\n",
    "    var time = end - start;\n",
    "    print('Execution time: ' + time + \" milliseconds\");\n",
    "\n",
    "    sc.stop();\n"
   ]
  }
 ],
 "metadata": {
  "kernelspec": {
   "display_name": "Spark 1.6.1 (Javascript)",
   "language": "javascript",
   "name": "eclair"
  },
  "language_info": {
   "name": "scala"
  }
 },
 "nbformat": 4,
 "nbformat_minor": 0
}