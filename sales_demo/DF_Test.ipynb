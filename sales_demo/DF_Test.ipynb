{
 "cells": [
  {
   "cell_type": "code",
   "execution_count": 1,
   "metadata": {
    "collapsed": false
   },
   "outputs": [],
   "source": [
    "var SparkContext = require(\"eclairjs/SparkContext\")\n",
    "var SQLContext = require(\"eclairjs/sql/SQLContext\")"
   ]
  },
  {
   "cell_type": "code",
   "execution_count": 2,
   "metadata": {
    "collapsed": false
   },
   "outputs": [],
   "source": [
    "var sc = new SparkContext(\"local[*]\", \"foo\");\n",
    "var sqlContext = new SQLContext(sc);"
   ]
  },
  {
   "cell_type": "code",
   "execution_count": 3,
   "metadata": {
    "collapsed": false
   },
   "outputs": [],
   "source": [
    "var rdd = sc.textFile(\n",
    "  \"/Users/bburns/dev/demandtec/data/streaming/*\"\n",
    ");"
   ]
  },
  {
   "cell_type": "code",
   "execution_count": 4,
   "metadata": {
    "collapsed": false
   },
   "outputs": [
    {
     "data": {
      "text/plain": [
       "7"
      ]
     },
     "execution_count": 4,
     "metadata": {},
     "output_type": "execute_result"
    }
   ],
   "source": [
    "var DataTypes = require(\"eclairjs/sql/types/DataTypes\");\n",
    "\n",
    "var fields = [];\n",
    "fields.push(DataTypes.createStructField(\"product_id\", DataTypes.StringType, true));\n",
    "fields.push(DataTypes.createStructField(\"store_id\", DataTypes.StringType, true));\n",
    "fields.push(DataTypes.createStructField(\"date\", DataTypes.DateType, true));\n",
    "fields.push(DataTypes.createStructField(\"time\", DataTypes.TimestampType, true));\n",
    "fields.push(DataTypes.createStructField(\"units\", DataTypes.DoubleType, true));\n",
    "fields.push(DataTypes.createStructField(\"price\", DataTypes.DoubleType, true));\n",
    "fields.push(DataTypes.createStructField(\"type\", DataTypes.StringType, true));\n",
    "\n",
    "var schema = DataTypes.createStructType(fields);"
   ]
  },
  {
   "cell_type": "code",
   "execution_count": 5,
   "metadata": {
    "collapsed": false
   },
   "outputs": [],
   "source": [
    "var trainingRDD =  rdd.map(function(line, Tuple, SqlDate, SqlTimestamp) {\n",
    "    var v = line.split(\"|\")\n",
    "        //product, location, date, time, units sold, price\n",
    "    return new Tuple(v[7], v[2], v[4], v[5], parseFloat(v[8]), parseFloat(v[10]), v[6]);\n",
    "}, [require(\"eclairjs/Tuple\")]).filter(function(x) {\n",
    "        //filter out 0 units sold and 0 price\n",
    "    return (x[5] > 0 && x[4] > 0 && x[6] == \"SALE\");\n",
    "}).map(function(t, RowFactory, SqlDate, SqlTimestamp) {\n",
    "    var parts = t[2].match(/(\\d+)/g);\n",
    "    var date = new Date(parts[0], parts[1]-1, parts[2]);\n",
    "    var time = new Date(Date.parse(t[2]+\" \"+t[3]));\n",
    "    var row = new RowFactory.create([\n",
    "        t[0], \n",
    "        t[1], \n",
    "        new SqlDate(date),\n",
    "        new SqlTimestamp(time), \n",
    "        parseFloat(t[4]), \n",
    "        parseFloat(t[5]), \n",
    "        t[6]]);\n",
    "    return row;\n",
    "}, [require(\"eclairjs/sql/RowFactory\"),require(\"eclairjs/sql/SqlDate\"),require(\"eclairjs/sql/SqlTimestamp\")]);\n",
    "\n",
    "var df = sqlContext.createDataFrame(trainingRDD, schema);"
   ]
  },
  {
   "cell_type": "code",
   "execution_count": 6,
   "metadata": {
    "collapsed": true
   },
   "outputs": [],
   "source": [
    "var df2 = sqlContext.read().parquet(\"/Users/bburns/dev/demandtec/data/models/dates/V11_arr\")"
   ]
  },
  {
   "cell_type": "code",
   "execution_count": 7,
   "metadata": {
    "collapsed": false
   },
   "outputs": [],
   "source": [
    "var df3 = df.join(df2, \"date\")"
   ]
  },
  {
   "cell_type": "code",
   "execution_count": 8,
   "metadata": {
    "collapsed": false
   },
   "outputs": [],
   "source": [
    "var rows = df3.take(10)"
   ]
  },
  {
   "cell_type": "code",
   "execution_count": 9,
   "metadata": {
    "collapsed": false
   },
   "outputs": [],
   "source": [
    "var df4 = sqlContext.createDataFrame(rows, df3.schema())"
   ]
  },
  {
   "cell_type": "code",
   "execution_count": 10,
   "metadata": {
    "collapsed": true
   },
   "outputs": [],
   "source": [
    "df4.show()"
   ]
  },
  {
   "cell_type": "code",
   "execution_count": 11,
   "metadata": {
    "collapsed": true
   },
   "outputs": [],
   "source": [
    "df3.printSchema()"
   ]
  },
  {
   "cell_type": "code",
   "execution_count": null,
   "metadata": {
    "collapsed": true
   },
   "outputs": [],
   "source": []
  }
 ],
 "metadata": {
  "kernelspec": {
   "display_name": "Spark 1.6.0 (Eclair)",
   "language": "javascript",
   "name": "eclair"
  },
  "language_info": {
   "name": "scala"
  }
 },
 "nbformat": 4,
 "nbformat_minor": 0
}
