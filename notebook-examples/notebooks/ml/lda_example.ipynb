
{
 "cells": [
      
  {
   "cell_type": "code",
   "execution_count": 1,
   "metadata": {
    "collapsed": false
   },
   "outputs": [],
   "source": [
    "\n",
    "    var SparkConf = require('eclairjs\/SparkConf');\n",
    "    var SparkContext = require('eclairjs\/SparkContext');\n",
    "    var sparkConf = new SparkConf().setAppName(\"Example\");\n",
    "    var sc = new SparkContext(sparkConf);\n",
    "    var SQLContext = require('eclairjs\/sql\/SQLContext');\n",
    "    var StructField = require(\"eclairjs\/sql\/types\/StructField\");\n",
    "    var StructType = require(\"eclairjs\/sql\/types\/StructType\");\n",
    "    var Metadata = require(\"eclairjs\/sql\/types\/Metadata\");\n",
    "    var RowFactory = require(\"eclairjs\/sql\/RowFactory\");\n",
    "    var Vectors = require(\"eclairjs\/mllib\/linalg\/Vectors\");\n",
    "    var LDA = require(\"eclairjs\/ml\/clustering\/LDA\");\n",
    "    var Vector = require(\"eclairjs\/mllib\/linalg\/Vector\");\n",
    "    var VectorUDT = require(\"eclairjs\/mllib\/linalg\/VectorUDT\");\n"
   ]

  },
  {
   "cell_type": "code",
   "execution_count": 2,
   "metadata": {
    "collapsed": false
   },
   "outputs": [],
   "source": [
    "    var sqlContext = new SQLContext(sc);\n",
    "\n",
    "    var inputFile = \"examples\/data\/mllib\/sample_lda_data.txt\";\n"
   ]

  },
   {
   "cell_type": "markdown",
   "metadata": {},
   "source": [
    " Loads data\n"
   ]

  },
  {
   "cell_type": "code",
   "execution_count": 3,
   "metadata": {
    "collapsed": false
   },
   "outputs": [],
   "source": [
    "    var points = sc.textFile(inputFile).map(function(line, RowFactory, Vectors){\n",
    "        var tok = line.split(\" \");\n",
    "        var point = [];\n",
    "        for (var i = 0; i < tok.length; ++i) {\n",
    "            point[i] = parseFloat(tok[i]);\n",
    "        }\n",
    "        var points = Vectors.dense(point);\n",
    "        return RowFactory.create(points);\n",
    "    }, [RowFactory, Vectors]);\n",
    "    var fields = [new StructField(\"features\", new VectorUDT(), false, Metadata.empty())];\n",
    "    var schema = new StructType(fields);\n",
    "    var dataset = sqlContext.createDataFrame(points, schema);\n"
   ]

  },
   {
   "cell_type": "markdown",
   "metadata": {},
   "source": [
    " Trains a LDA model\n"
   ]

  },
  {
   "cell_type": "code",
   "execution_count": 4,
   "metadata": {
    "collapsed": false
   },
   "outputs": [],
   "source": [
    "    var lda = new LDA()\n",
    "        .setK(10)\n",
    "        .setMaxIter(10);\n",
    "    var model = lda.fit(dataset);\n",
    "    var ret = {};\n",
    "    ret.logLikelihood = model.logLikelihood(dataset);\n",
    "    ret.logPerplexity = model.logPerplexity(dataset);\n"
   ]

  },
   {
   "cell_type": "markdown",
   "metadata": {},
   "source": [
    " Shows the result\n"
   ]

  },
  {
   "cell_type": "code",
   "execution_count": 5,
   "metadata": {
    "collapsed": false
   },
   "outputs": [],
   "source": [
    "    ret.topics = model.describeTopics(3);\n",
    "\n",
    "    ret.transformed = model.transform(dataset);\n",
    "\n",
    "var result = ret;\n",
    "    print(result.logLikelihood);\n",
    "    print(result.logPerplexity);\n",
    "    result.topics.show(false);\n",
    "    result.transformed.show(false);\n",
    "\n",
    "    sc.stop();\n"
   ]
  }
 ],
 "metadata": {
  "kernelspec": {
   "display_name": "Spark 1.6.1 (Javascript)",
   "language": "javascript",
   "name": "eclair"
  },
  "language_info": {
   "name": "scala"
  }
 },
 "nbformat": 4,
 "nbformat_minor": 0
}