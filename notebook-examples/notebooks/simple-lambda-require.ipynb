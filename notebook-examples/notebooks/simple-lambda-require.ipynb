
{
 "cells": [
      
  {
   "cell_type": "code",
   "execution_count": 1,
   "metadata": {
    "collapsed": false
   },
   "outputs": [],
   "source": [
    "var hello = require('examples\/hello');\n",
    "var LabeledPoint = require('eclairjs\/mllib\/regression\/LabeledPoint');\n",
    "\n",
    "var SparkConf = require('eclairjs\/SparkConf');\n",
    "var SparkContext = require('eclairjs\/SparkContext');\n",
    "\n",
    "var conf = new SparkConf().setAppName(\"Simple module binding to lambda function example\");\n",
    "var sc = new SparkContext(conf);\n",
    "\n",
    "var doHello = function(){\n",
    "    sc.parallelize([1, 2, 3, 4]).foreach(function(x, hello, LabeledPoint) {\n",
    "        hello(x);\n",
    "    }, [hello, LabeledPoint]);\n",
    "}\n",
    "\n",
    "doHello();\n"
   ]
  }
 ],
 "metadata": {
  "kernelspec": {
   "display_name": "Spark 1.6.1 (Javascript)",
   "language": "javascript",
   "name": "eclair"
  },
  "language_info": {
   "name": "scala"
  }
 },
 "nbformat": 4,
 "nbformat_minor": 0
}