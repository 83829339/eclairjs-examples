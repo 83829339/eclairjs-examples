
{
 "cells": [
      
  {
   "cell_type": "code",
   "execution_count": 1,
   "metadata": {
    "collapsed": false
   },
   "outputs": [],
   "source": [
    "    var SparkConf = require('eclairjs\/SparkConf');\n",
    "    var SparkContext = require('eclairjs\/SparkContext');\n",
    "\n",
    "    var sparkConf = new SparkConf().setAppName(\"Example\");\n",
    "    var sc = new SparkContext(sparkConf);\n",
    "    var SQLContext = require('eclairjs\/sql\/SQLContext');\n",
    "    var NaiveBayes = require(\"eclairjs\/ml\/classification\/NaiveBayes\");\n",
    "    var MulticlassClassificationEvaluator = require(\"eclairjs\/ml\/evaluation\/MulticlassClassificationEvaluator\");\n"
   ]

  },
  {
   "cell_type": "code",
   "execution_count": 2,
   "metadata": {
    "collapsed": false
   },
   "outputs": [],
   "source": [
    "    var sqlContext = new SQLContext(sc);\n"
   ]

  },
   {
   "cell_type": "markdown",
   "metadata": {},
   "source": [
    " Load training data\n"
   ]

  },
  {
   "cell_type": "code",
   "execution_count": 3,
   "metadata": {
    "collapsed": false
   },
   "outputs": [],
   "source": [
    "    var dataFrame = sqlContext.read().format(\"libsvm\").load(\"examples\/data\/mllib\/sample_libsvm_data.txt\");\n"
   ]

  },
   {
   "cell_type": "markdown",
   "metadata": {},
   "source": [
    " Split the data into train and test\n"
   ]

  },
  {
   "cell_type": "code",
   "execution_count": 4,
   "metadata": {
    "collapsed": false
   },
   "outputs": [],
   "source": [
    "    var splits = dataFrame.randomSplit([0.6, 0.4], 1234);\n",
    "    var train = splits[0];\n",
    "    var test = splits[1];\n"
   ]

  },
   {
   "cell_type": "markdown",
   "metadata": {},
   "source": [
    " create the trainer and set its parameters\n"
   ]

  },
  {
   "cell_type": "code",
   "execution_count": 5,
   "metadata": {
    "collapsed": false
   },
   "outputs": [],
   "source": [
    "    var nb = new NaiveBayes();\n"
   ]

  },
   {
   "cell_type": "markdown",
   "metadata": {},
   "source": [
    " train the model\n"
   ]

  },
  {
   "cell_type": "code",
   "execution_count": 6,
   "metadata": {
    "collapsed": false
   },
   "outputs": [],
   "source": [
    "    var model = nb.fit(train);\n"
   ]

  },
   {
   "cell_type": "markdown",
   "metadata": {},
   "source": [
    " compute precision on the test set\n"
   ]

  },
  {
   "cell_type": "code",
   "execution_count": 7,
   "metadata": {
    "collapsed": false
   },
   "outputs": [],
   "source": [
    "    var result = model.transform(test);\n",
    "    var predictionAndLabels = result.select(\"prediction\", \"label\");\n",
    "    var evaluator = new MulticlassClassificationEvaluator()\n",
    "        .setMetricName(\"precision\");\n",
    "var result = evaluator.evaluate(predictionAndLabels);\n",
    "    print(\"Precision = \" + result);\n",
    "\n",
    "    sc.stop();\n"
   ]
  }
 ],
 "metadata": {
  "kernelspec": {
   "display_name": "Spark 1.6.1 (Javascript)",
   "language": "javascript",
   "name": "eclair"
  },
  "language_info": {
   "name": "scala"
  }
 },
 "nbformat": 4,
 "nbformat_minor": 0
}