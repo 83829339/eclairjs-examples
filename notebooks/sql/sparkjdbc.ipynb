
{
 "cells": [
      
  {
   "cell_type": "code",
   "execution_count": 1,
   "metadata": {
    "collapsed": false
   },
   "outputs": [],
   "source": [
    "var sparkContext = new SparkContext(\"local[*]\", \"dataframe\");\n",
    "var sqlContext = new SQLContext(sparkContext);\n",
    "var url=\"jdbc:mysql:\/\/localhost:3306\/eclairjstesting\";\n",
    "var prop = {};\n",
    "prop[\"user\"] = \"root\";\n",
    "prop[\"password\"] = \"eclairjstestPW\";\n",
    "var peopleDF = sqlContext.read().jdbc(url, \"people\", prop);\n",
    "peopleDF.show();\n",
    "var peopleDF = sqlContext.read().jdbc(url, \"people\", [\"age > 20\"], prop);\n",
    "peopleDF.show();\n",
    "var writer = peopleDF.write();\n",
    "try {\n",
    "    writer.jdbc(url, \"peoplewritetest\", prop);\n",
    "} catch (e) {\n",
    "    print(\" exception \" + e);\n",
    "    print(\"saving in overwrite mode\");\n",
    "    writer.mode('overwrite').jdbc(url, \"peoplewritetest\", prop);\n",
    "}\n"
   ]

  },
   {
   "cell_type": "markdown",
   "metadata": {},
   "source": [
    "scala> val males = sqlContext.read.jdbc(url,\"person\",Array(\"gender='M'\"),prop)\n"
   ]
  }
 ],
 "metadata": {
  "kernelspec": {
   "display_name": "Spark 1.6.1 (Javascript)",
   "language": "javascript",
   "name": "eclair"
  },
  "language_info": {
   "name": "scala"
  }
 },
 "nbformat": 4,
 "nbformat_minor": 0
}