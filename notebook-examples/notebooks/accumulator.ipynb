
{
 "cells": [
      
  {
   "cell_type": "code",
   "execution_count": 1,
   "metadata": {
    "collapsed": false
   },
   "outputs": [],
   "source": [
    "    var SparkConf = require('eclairjs\/SparkConf');\n",
    "    var SparkContext = require('eclairjs\/SparkContext');\n",
    "    var conf = new SparkConf().setAppName(\"JavaScript accumulators test\");\n",
    "    var sc = new SparkContext(conf);\n",
    "    var accum = sc.accumulator([0]);\n",
    "\n",
    "    sc.parallelize([1, 2, 3, 4]).foreach(function(x, accum) {\n",
    "        accum.add(x);\n",
    "    }, [accum]);\n",
    "var result = accum.value();\n",
    "    print(result);\n",
    "\n",
    "    sc.stop();\n"
   ]
  }
 ],
 "metadata": {
  "kernelspec": {
   "display_name": "Spark 1.6.1 (Javascript)",
   "language": "javascript",
   "name": "eclair"
  },
  "language_info": {
   "name": "scala"
  }
 },
 "nbformat": 4,
 "nbformat_minor": 0
}