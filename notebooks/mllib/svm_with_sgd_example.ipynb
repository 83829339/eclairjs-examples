
{
 "cells": [
      
  {
   "cell_type": "code",
   "execution_count": 1,
   "metadata": {
    "collapsed": false
   },
   "outputs": [],
   "source": [
    "\n",
    "    var sparkConf = new SparkConf().setAppName(\"SVMWithSGDExample\");\n",
    "    var sc = new SparkContext(sparkConf);\n",
    "\n",
    "    var path = \"examples\/data\/mllib\/sample_libsvm_data.txt\";\n",
    "    var data = MLUtils.loadLibSVMFile(sc, path);\n"
   ]

  },
   {
   "cell_type": "markdown",
   "metadata": {},
   "source": [
    " Split initial RDD into two... [60% training data, 40% testing data].\n"
   ]

  },
  {
   "cell_type": "code",
   "execution_count": 2,
   "metadata": {
    "collapsed": false
   },
   "outputs": [],
   "source": [
    "    var training = data.sample(false, 0.6, 11);\n",
    "    training.cache();\n",
    "    var test = data.subtract(training);\n"
   ]

  },
   {
   "cell_type": "markdown",
   "metadata": {},
   "source": [
    " Run training algorithm to build the model.\n"
   ]

  },
  {
   "cell_type": "code",
   "execution_count": 3,
   "metadata": {
    "collapsed": false
   },
   "outputs": [],
   "source": [
    "    var numIterations = 100;\n",
    "    var model = SVMWithSGD.train(training, numIterations);\n"
   ]

  },
   {
   "cell_type": "markdown",
   "metadata": {},
   "source": [
    " Clear the default threshold.\n"
   ]

  },
  {
   "cell_type": "code",
   "execution_count": 4,
   "metadata": {
    "collapsed": false
   },
   "outputs": [],
   "source": [
    "    model.clearThreshold();\n"
   ]

  },
   {
   "cell_type": "markdown",
   "metadata": {},
   "source": [
    " Compute raw scores on the test set.\n"
   ]

  },
  {
   "cell_type": "code",
   "execution_count": 5,
   "metadata": {
    "collapsed": false
   },
   "outputs": [],
   "source": [
    "    var scoreAndLabels = test.map(function (lp, model) {\n",
    "        var score = model.predict(lp.getFeatures());\n",
    "        return new Tuple(score, lp.getLabel());\n",
    "    }, [model]);\n"
   ]

  },
   {
   "cell_type": "markdown",
   "metadata": {},
   "source": [
    " Get evaluation metrics.\n"
   ]

  },
  {
   "cell_type": "code",
   "execution_count": 6,
   "metadata": {
    "collapsed": false
   },
   "outputs": [],
   "source": [
    "    var metrics =\n",
    "        new BinaryClassificationMetrics(scoreAndLabels);\n",
    "    var ret = {};\n",
    "    ret.model = model;\n",
    "    ret.auROC = metrics.areaUnderROC();\n",
    "\n",
    "var result = ret;\n",
    "    print(\"Area under ROC = \" + result.auROC);\n"
   ]

  },
   {
   "cell_type": "markdown",
   "metadata": {},
   "source": [
    " Save and load model\n"
   ]

  },
  {
   "cell_type": "code",
   "execution_count": 7,
   "metadata": {
    "collapsed": false
   },
   "outputs": [],
   "source": [
    "    result.model.save(sc, \"target\/tmp\/SVMWithSGDModel\");\n",
    "    var sameModel = SVMModel.load(sc, \"target\/tmp\/SVMWithSGDModel\");\n",
    "\n",
    "    sc.stop();\n"
   ]
  }
 ],
 "metadata": {
  "kernelspec": {
   "display_name": "Spark 1.6.1 (Javascript)",
   "language": "javascript",
   "name": "eclair"
  },
  "language_info": {
   "name": "scala"
  }
 },
 "nbformat": 4,
 "nbformat_minor": 0
}