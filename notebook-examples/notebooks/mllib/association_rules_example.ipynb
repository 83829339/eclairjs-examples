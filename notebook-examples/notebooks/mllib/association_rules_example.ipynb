
{
 "cells": [
      
  {
   "cell_type": "code",
   "execution_count": 1,
   "metadata": {
    "collapsed": false
   },
   "outputs": [],
   "source": [
    "var AssociationRules = require('eclairjs\/mllib\/fpm\/AssociationRules');\n",
    "var FreqItemset = require('eclairjs\/mllib\/fpm\/FreqItemset');\n"
   ]

  },
  {
   "cell_type": "code",
   "execution_count": 2,
   "metadata": {
    "collapsed": false
   },
   "outputs": [],
   "source": [
    "\n",
    "    var SparkConf = require('eclairjs\/SparkConf');\n",
    "    var SparkContext = require('eclairjs\/SparkContext');\n",
    "    var sparkConf = new SparkConf().setAppName(\"JavaScriptAssociationRulesExample\");\n",
    "    var sc = new SparkContext(sparkConf);\n",
    "    var rules = run(sc);\n",
    "    var str = \"\";\n",
    "    rules.forEach(function(rule){\n",
    "        str += rule.antecedent() + \" => \" + rule.consequent() + \", \" + rule.confidence();\n",
    "    });\n",
    "    print(str);\n",
    "}\n"
   ]
  }
 ],
 "metadata": {
  "kernelspec": {
   "display_name": "Spark 1.6.1 (Javascript)",
   "language": "javascript",
   "name": "eclair"
  },
  "language_info": {
   "name": "scala"
  }
 },
 "nbformat": 4,
 "nbformat_minor": 0
}