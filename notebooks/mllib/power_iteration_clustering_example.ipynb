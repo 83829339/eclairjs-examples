
{
 "cells": [
      
  {
   "cell_type": "code",
   "execution_count": 1,
   "metadata": {
    "collapsed": false
   },
   "outputs": [],
   "source": [
    "var PowerIterationClustering = require('eclairjs\/mllib\/clustering\/PowerIterationClustering');\n",
    "var Tuple = require('eclairjs\/Tuple');\n"
   ]

  },
  {
   "cell_type": "code",
   "execution_count": 2,
   "metadata": {
    "collapsed": false
   },
   "outputs": [],
   "source": [
    "\n",
    "    var SparkConf = require('eclairjs\/SparkConf');\n",
    "    var SparkContext = require('eclairjs\/SparkContext');\n",
    "    var sparkConf = new SparkConf().setAppName(\"PowerIterationClusteringExample\");\n",
    "    var sc = new SparkContext(sparkConf);\n",
    "\n",
    "    var similarities = sc.parallelize([\n",
    "        new Tuple(0.0, 1.0, 0.9),\n",
    "        new Tuple(1.0, 2.0, 0.9),\n",
    "        new Tuple(2.0, 3.0, 0.9),\n",
    "        new Tuple(3.0, 4.0, 0.1),\n",
    "        new Tuple(4.0, 5.0, 0.9)\n",
    "    ]);\n",
    "\n",
    "    var pic = new PowerIterationClustering()\n",
    "        .setK(2)\n",
    "        .setMaxIterations(10);\n",
    "    var model = pic.run(similarities);\n",
    "\n",
    "var result = model.assignments().collect();\n",
    "    result.forEach(function(a){\n",
    "        print(a.id() + \" -> \" + a.cluster());\n",
    "    });\n",
    "\n",
    "    sc.stop();\n"
   ]
  }
 ],
 "metadata": {
  "kernelspec": {
   "display_name": "Spark 1.6.1 (Javascript)",
   "language": "javascript",
   "name": "eclair"
  },
  "language_info": {
   "name": "scala"
  }
 },
 "nbformat": 4,
 "nbformat_minor": 0
}