
{
 "cells": [
      
   {
   "cell_type": "markdown",
   "metadata": {},
   "source": [
    "\n",
    " This example is a EclairJS (JavaScript) implementation of [movie recommending](https:\/\/github.com\/jadianes\/spark-movie-lens\/blob\/master\/notebooks\/building-recommender.ipynb).\n",
    " #### This example requires the following additional setup\n",
    " Download the [movieLens rating dataset](http:\/\/grouplens.org\/datasets\/movielens\/)\n",
    "*[ml-latest-small.zip](http:\/\/files.grouplens.org\/datasets\/movielens\/ml-latest-small.zip)\n",
    "*[ml-latest.zip](http:\/\/files.grouplens.org\/datasets\/movielens\/ml-latest.zip) and unzip is a location that is accessible by Spark.\n",
    " Add the following options to the eclairjs\/kernel.jon SPARK_OPTS\n",
    " \"SPARK_OPTS\": \"--driver-memory 4g --executor-memory 4g ...\"\n"
   ]

  },
  {
   "cell_type": "code",
   "execution_count": 1,
   "metadata": {
    "collapsed": false
   },
   "outputs": [],
   "source": [
    "\n",
    "var pathToSmallDataset = 'examples\/data\/mllib\/ml-latest-small';\n",
    "var pathToCompleteDataset = 'examples\/data\/mllib\/ml-latest';\n"
   ]

  },
  {
   "cell_type": "code",
   "execution_count": 2,
   "metadata": {
    "collapsed": false
   },
   "outputs": [],
   "source": [
    "\n",
    "    var SparkConf = require('eclairjs\/SparkConf');\n",
    "    var SparkContext = require('eclairjs\/SparkContext');\n",
    "    var sparkConf = new SparkConf().setAppName(\"JavaScript Movie\");\n",
    "    var sc = new SparkContext(sparkConf);\n",
    "    run(sc);\n",
    "\n",
    "    sc.stop();\n"
   ]
  }
 ],
 "metadata": {
  "kernelspec": {
   "display_name": "Spark 1.6.1 (Javascript)",
   "language": "javascript",
   "name": "eclair"
  },
  "language_info": {
   "name": "scala"
  }
 },
 "nbformat": 4,
 "nbformat_minor": 0
}