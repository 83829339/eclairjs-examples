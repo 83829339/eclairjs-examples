
{
 "cells": [
      
  {
   "cell_type": "code",
   "execution_count": 1,
   "metadata": {
    "collapsed": false
   },
   "outputs": [],
   "source": [
    "    var SparkConf = require('eclairjs\/SparkConf');\n",
    "    var SparkContext = require('eclairjs\/SparkContext');\n",
    "\n",
    "    var sparkConf = new SparkConf().setAppName(\"Example\");\n",
    "    var sc = new SparkContext(sparkConf);\n",
    "    var SQLContext = require('eclairjs\/sql\/SQLContext');\n",
    "    var RowFactory = require('eclairjs\/sql\/RowFactory');\n",
    "    var StructType = require(\"eclairjs\/sql\/types\/StructType\");\n",
    "    var StructField = require(\"eclairjs\/sql\/types\/StructField\");\n",
    "    var DataTypes = require(\"eclairjs\/sql\/types\/DataTypes\");\n",
    "    var Metadata = require(\"eclairjs\/sql\/types\/Metadata\");\n",
    "    var NGram = require(\"eclairjs\/ml\/feature\/NGram\");\n"
   ]

  },
  {
   "cell_type": "code",
   "execution_count": 2,
   "metadata": {
    "collapsed": false
   },
   "outputs": [],
   "source": [
    "    var sqlContext = new SQLContext(sc);\n",
    "\n",
    "    var rdd = sc.parallelize([\n",
    "        RowFactory.create(0.0, [\"Hi\", \"I\", \"heard\", \"about\", \"Spark\"]),\n",
    "        RowFactory.create(1.0, [\"I\", \"wish\", \"Java\", \"could\", \"use\", \"case\", \"classes\"]),\n",
    "        RowFactory.create(2.0, [\"Logistic\", \"regression\", \"models\", \"are\", \"neat\"])\n",
    "    ]);\n",
    "\n",
    "    var schema = new StructType([\n",
    "        new StructField(\"label\", DataTypes.DoubleType, false, Metadata.empty()),\n",
    "        new StructField(\n",
    "            \"words\", DataTypes.createArrayType(DataTypes.StringType), false, Metadata.empty())\n",
    "    ]);\n",
    "\n",
    "    var wordDataFrame = sqlContext.createDataFrame(rdd, schema);\n",
    "\n",
    "    var ngramTransformer = new NGram().setInputCol(\"words\").setOutputCol(\"ngrams\");\n",
    "\n",
    "    var ngramDataFrame = ngramTransformer.transform(wordDataFrame);\n",
    "\n",
    "var result = ngramDataFrame.select(\"ngrams\", \"label\").take(3);\n",
    "    print(JSON.stringify(result));\n",
    "    result.forEach(function (r) {\n",
    "        var ngrams = r.getList(0).toArray();\n",
    "        var ngram = \"\";\n",
    "        ngrams.forEach(function (n) {\n",
    "            ngram = n + \" --- \" + ngram;\n",
    "        });\n",
    "        print(ngram);\n",
    "    });\n"
   ]

  },
  {
   "cell_type": "code",
   "execution_count": 3,
   "metadata": {
    "collapsed": false
   },
   "outputs": [],
   "source": [
    "    sc.stop();\n"
   ]
  }
 ],
 "metadata": {
  "kernelspec": {
   "display_name": "Spark 1.6.1 (Javascript)",
   "language": "javascript",
   "name": "eclair"
  },
  "language_info": {
   "name": "scala"
  }
 },
 "nbformat": 4,
 "nbformat_minor": 0
}