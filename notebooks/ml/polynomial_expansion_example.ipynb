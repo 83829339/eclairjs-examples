
{
 "cells": [
      
  {
   "cell_type": "code",
   "execution_count": 1,
   "metadata": {
    "collapsed": false
   },
   "outputs": [],
   "source": [
    "    var SparkConf = require('eclairjs\/SparkConf');\n",
    "    var SparkContext = require('eclairjs\/SparkContext');\n",
    "\n",
    "    var sparkConf = new SparkConf().setAppName(\"Example\");\n",
    "    var sc = new SparkContext(sparkConf);\n",
    "    var SQLContext = require('eclairjs\/sql\/SQLContext');\n",
    "    var RowFactory = require('eclairjs\/sql\/RowFactory');\n",
    "    var StructType = require(\"eclairjs\/sql\/types\/StructType\");\n",
    "    var StructField = require(\"eclairjs\/sql\/types\/StructField\");\n",
    "    var DataTypes = require(\"eclairjs\/sql\/types\/DataTypes\");\n",
    "    var Metadata = require(\"eclairjs\/sql\/types\/Metadata\");\n",
    "    var PolynomialExpansion = require(\"eclairjs\/ml\/feature\/PolynomialExpansion\");\n",
    "    var Vectors = require(\"eclairjs\/mllib\/linalg\/Vectors\");\n",
    "    var VectorUDT = require(\"eclairjs\/mllib\/linalg\/VectorUDT\");\n"
   ]

  },
  {
   "cell_type": "code",
   "execution_count": 2,
   "metadata": {
    "collapsed": false
   },
   "outputs": [],
   "source": [
    "    var sqlContext = new SQLContext(sc);\n",
    "\n",
    "    var polyExpansion = new PolynomialExpansion()\n",
    "        .setInputCol(\"features\")\n",
    "        .setOutputCol(\"polyFeatures\")\n",
    "        .setDegree(3);\n",
    "\n",
    "    var data = sc.parallelize([\n",
    "        RowFactory.create(Vectors.dense(-2.0, 2.3)),\n",
    "        RowFactory.create(Vectors.dense(0.0, 0.0)),\n",
    "        RowFactory.create(Vectors.dense(0.6, -1.1))\n",
    "    ]);\n",
    "\n",
    "    var schema = new StructType([\n",
    "        new StructField(\"features\", new VectorUDT(), false, Metadata.empty())\n",
    "    ]);\n",
    "\n",
    "    var df = sqlContext.createDataFrame(data, schema);\n",
    "    var polyDF = polyExpansion.transform(df);\n",
    "\n",
    "var result = polyDF.select(\"polyFeatures\").take(3);\n",
    "    result.forEach(function (r) {\n",
    "        print(r.get(0));\n",
    "    });\n",
    "\n",
    "    sc.stop();\n"
   ]
  }
 ],
 "metadata": {
  "kernelspec": {
   "display_name": "Spark 1.6.1 (Javascript)",
   "language": "javascript",
   "name": "eclair"
  },
  "language_info": {
   "name": "scala"
  }
 },
 "nbformat": 4,
 "nbformat_minor": 0
}