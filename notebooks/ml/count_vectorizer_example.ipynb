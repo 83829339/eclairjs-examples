
{
 "cells": [
      
  {
   "cell_type": "code",
   "execution_count": 1,
   "metadata": {
    "collapsed": false
   },
   "outputs": [],
   "source": [
    "\n",
    "    var SparkConf = require('eclairjs\/SparkConf');\n",
    "    var SparkContext = require('eclairjs\/SparkContext');\n",
    "    var sparkConf = new SparkConf().setAppName(\"JavaScript Vectorizer Example\");\n",
    "    var sc = new SparkContext(sparkConf);\n",
    "\n",
    "    var SQLContext = require('eclairjs\/sql\/SQLContext');\n",
    "    var DataTypes = require('eclairjs\/sql\/types\/DataTypes');\n",
    "    var ArrayType = require('eclairjs\/sql\/types\/ArrayType');\n",
    "    var StructField = require('eclairjs\/sql\/types\/StructField');\n",
    "    var StructType = require('eclairjs\/sql\/types\/StructType');\n",
    "    var RowFactory = require('eclairjs\/sql\/RowFactory');\n",
    "    var Metadata = require('eclairjs\/sql\/types\/Metadata');\n",
    "    var CountVectorizer = require('eclairjs\/ml\/feature\/CountVectorizer');\n",
    "    var CountVectorizerModel = require('eclairjs\/ml\/feature\/CountVectorizerModel');\n",
    "    var Vectors = require('eclairjs\/mllib\/linalg\/Vectors');\n",
    "    var VectorUDT = require('eclairjs\/mllib\/linalg\/VectorUDT');\n",
    "\n",
    "    var sqlContext = new SQLContext(sc);\n"
   ]

  },
   {
   "cell_type": "markdown",
   "metadata": {},
   "source": [
    " Input data: Each row is a bag of words from a sentence or document.\n"
   ]

  },
  {
   "cell_type": "code",
   "execution_count": 2,
   "metadata": {
    "collapsed": false
   },
   "outputs": [],
   "source": [
    "    var rdd = sc.parallelize([\n",
    "        RowFactory.create([[\"a\", \"b\", \"c\"]]),\n",
    "        RowFactory.create([[\"a\", \"b\", \"b\", \"c\", \"a\"]])\n",
    "    ]);\n",
    "    var schema = new StructType([\n",
    "        new StructField(\"text\", new ArrayType(DataTypes.StringType, true), false, Metadata.empty())\n",
    "    ]);\n",
    "    var df = sqlContext.createDataFrame(rdd, schema);\n"
   ]

  },
   {
   "cell_type": "markdown",
   "metadata": {},
   "source": [
    " fit a CountVectorizerModel from the corpus\n"
   ]

  },
  {
   "cell_type": "code",
   "execution_count": 3,
   "metadata": {
    "collapsed": false
   },
   "outputs": [],
   "source": [
    "    var cvModel = new CountVectorizer()\n",
    "        .setInputCol(\"text\")\n",
    "        .setOutputCol(\"feature\")\n",
    "        .setVocabSize(3)\n",
    "        .setMinDF(2)\n",
    "        .fit(df);\n"
   ]

  },
   {
   "cell_type": "markdown",
   "metadata": {},
   "source": [
    " alternatively, define CountVectorizerModel with a-priori vocabulary\n"
   ]

  },
  {
   "cell_type": "code",
   "execution_count": 4,
   "metadata": {
    "collapsed": false
   },
   "outputs": [],
   "source": [
    "    var cvm = new CountVectorizerModel([\"a\", \"b\", \"c\"])\n",
    "        .setInputCol(\"text\")\n",
    "        .setOutputCol(\"feature\");\n",
    "\n",
    "var result = cvModel.transform(df);\n",
    "    result.show();\n",
    "    sc.stop();\n"
   ]
  }
 ],
 "metadata": {
  "kernelspec": {
   "display_name": "Spark 1.6.1 (Javascript)",
   "language": "javascript",
   "name": "eclair"
  },
  "language_info": {
   "name": "scala"
  }
 },
 "nbformat": 4,
 "nbformat_minor": 0
}